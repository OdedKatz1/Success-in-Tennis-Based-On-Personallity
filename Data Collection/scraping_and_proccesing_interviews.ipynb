{
 "cells": [
  {
   "cell_type": "code",
   "execution_count": 2,
   "metadata": {},
   "outputs": [
    {
     "name": "stderr",
     "output_type": "stream",
     "text": [
      "c:\\Users\\shach\\.conda\\envs\\oded2\\Lib\\site-packages\\tqdm\\auto.py:21: TqdmWarning: IProgress not found. Please update jupyter and ipywidgets. See https://ipywidgets.readthedocs.io/en/stable/user_install.html\n",
      "  from .autonotebook import tqdm as notebook_tqdm\n"
     ]
    }
   ],
   "source": [
    "import bs4\n",
    "import requests\n",
    "import numpy as np\n",
    "import re\n",
    "import string\n",
    "import pandas as pd\n",
    "import time\n",
    "import google.generativeai as genai\n",
    "from google.api_core.exceptions import ResourceExhausted\n",
    "import matplotlib.pyplot as plt"
   ]
  },
  {
   "cell_type": "code",
   "execution_count": 5,
   "metadata": {},
   "outputs": [],
   "source": [
    "# import players names\n",
    "male_names = np.genfromtxt(r\"C:\\Users\\shach\\Desktop\\פסיכולוגיה\\מדעי הנתונים בפסיכולוגיה\\עבודה\\raw files\\players\\atp_players.csv\",\n",
    "                            delimiter=',', dtype=str, skip_header=1)\n",
    "female_names = np.genfromtxt(r\"C:\\Users\\shach\\Desktop\\פסיכולוגיה\\מדעי הנתונים בפסיכולוגיה\\עבודה\\raw files\\players\\wta_players.csv\",\n",
    "                            delimiter=',', dtype=str, skip_header=1)\n",
    "\n",
    "# concatenate the names\n",
    "# for each file, the names are the second and third columns\n",
    "# create a list of names in the format of \"first_name, last_name\"\n",
    "def concate_second_and_third(arr):\n",
    "    return arr[2] + \", \" + arr[1]\n",
    "list_of_names = list(map(concate_second_and_third, male_names)) + list(map(concate_second_and_third, female_names))"
   ]
  },
  {
   "cell_type": "code",
   "execution_count": 6,
   "metadata": {},
   "outputs": [],
   "source": [
    "# for each letter in the alphabet, get the names of players\n",
    "# for each name, get the link to the player's page\n",
    "URL_temp = r'https://www.asapsports.com/show_player.php?category=7&letter='\n",
    "people = {}\n",
    "for letter in string.ascii_lowercase:\n",
    "    URL = URL_temp + letter\n",
    "    r = requests.get(URL)\n",
    "\n",
    "    # the page containe names of people\n",
    "    # list all the names\n",
    "    # for each name, get the link\n",
    "    soup = bs4.BeautifulSoup(r.content, 'html5lib')\n",
    "    for a in soup.find_all('a', href=True):\n",
    "        name = a.text\n",
    "        if name in list_of_names:\n",
    "            people[name] = {\n",
    "                'link': a['href'],\n",
    "                'content': []\n",
    "            }"
   ]
  },
  {
   "cell_type": "code",
   "execution_count": null,
   "metadata": {},
   "outputs": [],
   "source": [
    "# return the index of the first cell that contains with \"FastScripts\"\n",
    "# the interview always ends with a sentence that has \"FastScripts\"\n",
    "def index_of_fastscripts_cell(arr):\n",
    "    for i in range(len(arr),0,-1):\n",
    "        if \"FastScripts\" in arr[i-1]:\n",
    "            return i-1\n",
    "    return len(arr)\n",
    "\n",
    "# get the index and name of the last player we got his interviews\n",
    "def get_last_player_index(people):\n",
    "    index = 0\n",
    "    result_name = \"\"\n",
    "    for i, name in enumerate(people):\n",
    "        if people[name]['content'] != []:\n",
    "            index = i\n",
    "            result_name = name\n",
    "    return [index, result_name]\n",
    "\n",
    "get_last_player_index(people)[1]"
   ]
  },
  {
   "cell_type": "code",
   "execution_count": null,
   "metadata": {},
   "outputs": [],
   "source": [
    "# for each player, get the content of the interviews\n",
    "# start where we stopped last time\n",
    "index_of_last_player = get_last_player_index(people)[0]\n",
    "name_of_last_player = get_last_player_index(people)[1]\n",
    "if name_of_last_player != \"\":\n",
    "    people[name_of_last_player][\"content\"] = [] # reset the content of the last player\n",
    "for name in dict(list(people.items())[index_of_last_player:]):\n",
    "    link = people[name]['link']\n",
    "    URL = link\n",
    "    r = requests.get(URL)\n",
    "    soup = bs4.BeautifulSoup(r.content, 'html5lib')\n",
    "    # if the player has too little interviews (less than 4), skip\n",
    "    if (len(soup.find_all('a', href=True)) < 35):\n",
    "        continue\n",
    "    print(name)\n",
    "    interview_count = 0  # Initialize interview count for the player\n",
    "    for a in reversed(soup.find_all('a', href=True)): # Reverse the order of links to collect the first interviews\n",
    "        if interview_count >= 50:\n",
    "            print(\"BREAK\")\n",
    "            break # Stop scraping if we have already collected 50 interviews\n",
    "        # making sure we are getting interview from a tournment (not just press conference\\ announcement)\n",
    "        if 'show_interview.php' in a['href'] and ['ANNOUNCEMENT', 'CONFERENCE'] not in a.contents:\n",
    "            # if we got to here, we have a link to a page with the content\n",
    "            # now we need to get the content\n",
    "            URL = a['href']\n",
    "            r = requests.get(URL)\n",
    "            soup = bs4.BeautifulSoup(r.content, 'html5lib')\n",
    "            p = soup.find_all('td')[13] # the actuall content\n",
    "            if (len([h3 for h3 in p.find_all('h3') if h3.find('a', href=True)]) > 1) or \"CAPTAIN\" in p.text[501:]:\n",
    "                # skip if more than one intervieiw in the page\n",
    "                # (most international games that have more than one interview contain the word \"CAPTAIN\" in the content)\n",
    "                continue \n",
    "            # get the content without the generics\n",
    "            text_arr = p.text[501:].split(\"\\n\")\n",
    "            text_arr = list(filter(lambda x: x not in ['\\t\\t  ']\n",
    "                                    and x != \"\",\n",
    "                                    text_arr))\n",
    "            people[name]['content'].append(text_arr[:index_of_fastscripts_cell(text_arr)])\n",
    "            interview_count += 1"
   ]
  },
  {
   "cell_type": "code",
   "execution_count": 3,
   "metadata": {},
   "outputs": [
    {
     "data": {
      "text/html": [
       "<div>\n",
       "<style scoped>\n",
       "    .dataframe tbody tr th:only-of-type {\n",
       "        vertical-align: middle;\n",
       "    }\n",
       "\n",
       "    .dataframe tbody tr th {\n",
       "        vertical-align: top;\n",
       "    }\n",
       "\n",
       "    .dataframe thead th {\n",
       "        text-align: right;\n",
       "    }\n",
       "</style>\n",
       "<table border=\"1\" class=\"dataframe\">\n",
       "  <thead>\n",
       "    <tr style=\"text-align: right;\">\n",
       "      <th></th>\n",
       "      <th>name</th>\n",
       "      <th>cup</th>\n",
       "      <th>date</th>\n",
       "      <th>won</th>\n",
       "      <th>interview</th>\n",
       "      <th>content</th>\n",
       "    </tr>\n",
       "  </thead>\n",
       "  <tbody>\n",
       "    <tr>\n",
       "      <th>16</th>\n",
       "      <td>Agassi, Andre</td>\n",
       "      <td>THE LIPTON CHAMPIONSHIPS</td>\n",
       "      <td>1994-03-17</td>\n",
       "      <td>999.0</td>\n",
       "      <td>Q. Andre, that must be a very satisfying resu...</td>\n",
       "      <td>[THE LIPTON CHAMPIONSHIPS, \\t\\t  March 17, 199...</td>\n",
       "    </tr>\n",
       "    <tr>\n",
       "      <th>101</th>\n",
       "      <td>Alcaraz, Carlos</td>\n",
       "      <td>THE CHAMPIONSHIPS</td>\n",
       "      <td>2022-06-26</td>\n",
       "      <td>999.0</td>\n",
       "      <td>THE MODERATOR: Carlos, how have your preparati...</td>\n",
       "      <td>[THE CHAMPIONSHIPS, \\t\\t  June 26, 2022, \\t\\t ...</td>\n",
       "    </tr>\n",
       "    <tr>\n",
       "      <th>108</th>\n",
       "      <td>Alcaraz, Carlos</td>\n",
       "      <td>US OPEN</td>\n",
       "      <td>2022-08-26</td>\n",
       "      <td>999.0</td>\n",
       "      <td>THE MODERATOR: Carlos, your thoughts on the US...</td>\n",
       "      <td>[US OPEN, \\t\\t  August 26, 2022, \\t\\t  Carlos ...</td>\n",
       "    </tr>\n",
       "    <tr>\n",
       "      <th>118</th>\n",
       "      <td>Almagro, Nicolas</td>\n",
       "      <td>AUSTRALIAN OPEN</td>\n",
       "      <td>2013-01-18</td>\n",
       "      <td>999.0</td>\n",
       "      <td>THE MODERATOR:Â Questions, please. Q.Â The Lan...</td>\n",
       "      <td>[AUSTRALIAN OPEN, \\t\\t  January 18, 2013, \\t\\t...</td>\n",
       "    </tr>\n",
       "    <tr>\n",
       "      <th>214</th>\n",
       "      <td>Andreescu, Bianca</td>\n",
       "      <td>CHINA OPEN</td>\n",
       "      <td>2019-09-27</td>\n",
       "      <td>999.0</td>\n",
       "      <td>THE MODERATOR: Questions, please. Q. Your impr...</td>\n",
       "      <td>[CHINA OPEN, \\t\\t  September 27, 2019, \\t\\t  B...</td>\n",
       "    </tr>\n",
       "    <tr>\n",
       "      <th>...</th>\n",
       "      <td>...</td>\n",
       "      <td>...</td>\n",
       "      <td>...</td>\n",
       "      <td>...</td>\n",
       "      <td>...</td>\n",
       "      <td>...</td>\n",
       "    </tr>\n",
       "    <tr>\n",
       "      <th>13617</th>\n",
       "      <td>Zverev, Alexander</td>\n",
       "      <td>SHANGHAI ROLEX MASTERS</td>\n",
       "      <td>2017-10-09</td>\n",
       "      <td>999.0</td>\n",
       "      <td>THE MODERATOR: Questions in English, please. Q...</td>\n",
       "      <td>[SHANGHAI ROLEX MASTERS, \\t\\t  October 9, 2017...</td>\n",
       "    </tr>\n",
       "    <tr>\n",
       "      <th>13622</th>\n",
       "      <td>Zverev, Alexander</td>\n",
       "      <td>AUSTRALIAN OPEN</td>\n",
       "      <td>2018-01-13</td>\n",
       "      <td>999.0</td>\n",
       "      <td>THE MODERATOR: Questions, please. Q. How are y...</td>\n",
       "      <td>[AUSTRALIAN OPEN, \\t\\t  January 13, 2018, \\t\\t...</td>\n",
       "    </tr>\n",
       "    <tr>\n",
       "      <th>13648</th>\n",
       "      <td>Zvonareva, Vera</td>\n",
       "      <td>US OPEN</td>\n",
       "      <td>2002-08-31</td>\n",
       "      <td>999.0</td>\n",
       "      <td>THE MODERATOR: First question, please. Q. Whe...</td>\n",
       "      <td>[US OPEN, \\t\\t  August 31, 2002, \\t\\t  Vera Zv...</td>\n",
       "    </tr>\n",
       "    <tr>\n",
       "      <th>13679</th>\n",
       "      <td>Zvonareva, Vera</td>\n",
       "      <td>WIMBLEDON</td>\n",
       "      <td>2010-07-02</td>\n",
       "      <td>999.0</td>\n",
       "      <td>THE MODERATOR: Questions, please. Q. Is fitne...</td>\n",
       "      <td>[WIMBLEDON, \\t\\t  July 2, 2010, \\t\\t  Vera Zvo...</td>\n",
       "    </tr>\n",
       "    <tr>\n",
       "      <th>13690</th>\n",
       "      <td>Zvonareva, Vera</td>\n",
       "      <td>WTA CHAMPIONSHIPS - DOHA 2010</td>\n",
       "      <td>2010-10-25</td>\n",
       "      <td>999.0</td>\n",
       "      <td>THE MODERATOR: Questions, please. Q. This wee...</td>\n",
       "      <td>[WTA CHAMPIONSHIPS - DOHA 2010, \\t\\t  October ...</td>\n",
       "    </tr>\n",
       "  </tbody>\n",
       "</table>\n",
       "<p>530 rows × 6 columns</p>\n",
       "</div>"
      ],
      "text/plain": [
       "                    name                            cup       date    won  \\\n",
       "16         Agassi, Andre       THE LIPTON CHAMPIONSHIPS 1994-03-17  999.0   \n",
       "101      Alcaraz, Carlos              THE CHAMPIONSHIPS 2022-06-26  999.0   \n",
       "108      Alcaraz, Carlos                        US OPEN 2022-08-26  999.0   \n",
       "118     Almagro, Nicolas                AUSTRALIAN OPEN 2013-01-18  999.0   \n",
       "214    Andreescu, Bianca                     CHINA OPEN 2019-09-27  999.0   \n",
       "...                  ...                            ...        ...    ...   \n",
       "13617  Zverev, Alexander         SHANGHAI ROLEX MASTERS 2017-10-09  999.0   \n",
       "13622  Zverev, Alexander                AUSTRALIAN OPEN 2018-01-13  999.0   \n",
       "13648    Zvonareva, Vera                        US OPEN 2002-08-31  999.0   \n",
       "13679    Zvonareva, Vera                      WIMBLEDON 2010-07-02  999.0   \n",
       "13690    Zvonareva, Vera  WTA CHAMPIONSHIPS - DOHA 2010 2010-10-25  999.0   \n",
       "\n",
       "                                               interview  \\\n",
       "16      Q. Andre, that must be a very satisfying resu...   \n",
       "101    THE MODERATOR: Carlos, how have your preparati...   \n",
       "108    THE MODERATOR: Carlos, your thoughts on the US...   \n",
       "118    THE MODERATOR:Â Questions, please. Q.Â The Lan...   \n",
       "214    THE MODERATOR: Questions, please. Q. Your impr...   \n",
       "...                                                  ...   \n",
       "13617  THE MODERATOR: Questions in English, please. Q...   \n",
       "13622  THE MODERATOR: Questions, please. Q. How are y...   \n",
       "13648   THE MODERATOR: First question, please. Q. Whe...   \n",
       "13679   THE MODERATOR: Questions, please. Q. Is fitne...   \n",
       "13690   THE MODERATOR: Questions, please. Q. This wee...   \n",
       "\n",
       "                                                 content  \n",
       "16     [THE LIPTON CHAMPIONSHIPS, \\t\\t  March 17, 199...  \n",
       "101    [THE CHAMPIONSHIPS, \\t\\t  June 26, 2022, \\t\\t ...  \n",
       "108    [US OPEN, \\t\\t  August 26, 2022, \\t\\t  Carlos ...  \n",
       "118    [AUSTRALIAN OPEN, \\t\\t  January 18, 2013, \\t\\t...  \n",
       "214    [CHINA OPEN, \\t\\t  September 27, 2019, \\t\\t  B...  \n",
       "...                                                  ...  \n",
       "13617  [SHANGHAI ROLEX MASTERS, \\t\\t  October 9, 2017...  \n",
       "13622  [AUSTRALIAN OPEN, \\t\\t  January 13, 2018, \\t\\t...  \n",
       "13648  [US OPEN, \\t\\t  August 31, 2002, \\t\\t  Vera Zv...  \n",
       "13679  [WIMBLEDON, \\t\\t  July 2, 2010, \\t\\t  Vera Zvo...  \n",
       "13690  [WTA CHAMPIONSHIPS - DOHA 2010, \\t\\t  October ...  \n",
       "\n",
       "[530 rows x 6 columns]"
      ]
     },
     "execution_count": 3,
     "metadata": {},
     "output_type": "execute_result"
    }
   ],
   "source": [
    "interview_data = pd.read_csv(r\"C:\\Users\\shach\\Desktop\\פסיכולוגיה\\מדעי הנתונים בפסיכולוגיה\\עבודה\\python\\processed_interviews.csv\")\n",
    "interview_data[\"date\"] = pd.to_datetime(interview_data[\"date\"], errors='coerce')\n",
    "interview_data[\"content\"] = interview_data[\"content\"].apply(lambda x: eval(x))\n",
    "\n",
    "interview_data[interview_data[\"won\"]==999]"
   ]
  },
  {
   "cell_type": "code",
   "execution_count": null,
   "metadata": {},
   "outputs": [],
   "source": [
    "# returning the name in the format of the interviews\n",
    "def get_caped_name(name):\n",
    "    caped_name = name.split(\", \")\n",
    "    caped_name = \" \".join([caped_name[1], caped_name[0]])\n",
    "    return caped_name.upper()\n",
    "\n",
    "# replacing the name in the interview with \"SPEAKER\"\n",
    "def replace_name_in_interviews(name, interview):\n",
    "    return interview.replace(get_caped_name(name), \"SPEAKER\")\n",
    "\n",
    "# asking gemini to tell if the speaker won or lost\n",
    "def ask_gemini(content, name):\n",
    "    promt = \"I need your help in determining the outcome of a tennis match. I will provide you with a post-game interview of a tennis player. Return 1 if you think the SPEAKER won, and 0 if he\\ she lost. If you are not sure return 9. Your final answer should be only a number. Here is the interview: \\n\"\n",
    "    #GOOGLE_API_KEY = \"your API key goes here\" \n",
    "    genai.configure(api_key=GOOGLE_API_KEY)\n",
    "    #model = genai.GenerativeModel('gemini-1.5-flash')\n",
    "    #model = genai.GenerativeModel('gemini-1.0-pro')\n",
    "    model = genai.GenerativeModel('gemini-1.5-pro')\n",
    "    interview = re.sub(r'\\s+', ' ', \"\\n\".join(content))\n",
    "    interview = replace_name_in_interviews(name, interview)\n",
    "    for j in range(3):\n",
    "        try:\n",
    "            response = model.generate_content(promt + interview)\n",
    "            if response.text.strip() == \"1\":\n",
    "                return 1\n",
    "            elif response.text.strip() == \"0\":\n",
    "                return 0\n",
    "            elif response.text.strip() == \"9\":\n",
    "                print(\"COULDN'T DETERMINE \", interview)\n",
    "                return 999\n",
    "        except ResourceExhausted:\n",
    "                print(\"ResourceExhausted error, retrying in 1 minute...\")\n",
    "                time.sleep(61)  # Wait for 1 minute before retrying\n",
    "        \n",
    "        except Exception:\n",
    "            print(\"Exception!!! \", interview)\n",
    "            return 999\n",
    "    print(\"NOTHING WORKED! \", interview)\n",
    "    return None"
   ]
  },
  {
   "cell_type": "code",
   "execution_count": 7,
   "metadata": {},
   "outputs": [],
   "source": [
    "# get the index that starts the interview\n",
    "def get_index_of_interview(arr, name):\n",
    "    players_that_start_with_q = [\"Q. Halys\", \"Q. Wang\", \"Q. Vega\", \"Q. Lemoine\", \"Q. HALYS\", \"Q. WANG\", \"Q. VEGA\", \"Q. LEMOINE\"]\n",
    "    pattern = re.compile(r\"(MODERATOR|Q\\.)\")\n",
    "    for i, element in enumerate(arr):\n",
    "        if pattern.search(element):  # Check if element contains \"MODERATOR\" or \"Q.\"\n",
    "            bool = True # assume the \"Q. \" is true\n",
    "            if any(map(lambda player: player in element, players_that_start_with_q)):  # checks if the \"Q. \" is true because of a player's name\n",
    "                bool = False\n",
    "            if bool:\n",
    "                return i\n",
    "    # if we got here, we missed the start of the interview\n",
    "    # we will try to find the first time the player's name is all capps\n",
    "    # and return one line before that\n",
    "    split_name = name.split(\", \")\n",
    "    if \"-\" in split_name[0]: # if there are two last names\n",
    "        split_name[0] = split_name[0].split(\"-\")[0] # take the first last name\n",
    "    name = split_name[1].upper() +\" \"+ split_name[0].upper()\n",
    "    for i, element in enumerate(arr):\n",
    "        if name in element:\n",
    "            return i-1\n",
    "    return 0\n",
    "\n",
    "# get the whole content of the interview and check if won\n",
    "# we do this manually trying to find the score\n",
    "# most of the times (2006 and earlier) the score is not in the interview so we will ask Gemini for help\n",
    "# won = True, lost = False, don't know = None\n",
    "def check_if_won(content, name):\n",
    "    split_name = name.split(\", \")\n",
    "    winner_name = split_name[1][0].upper() + \". \" + split_name[0].upper() # winner name is in the format \"F. ABANDA\"\n",
    "    print(winner_name)\n",
    "    loser_name = split_name[1][0].upper() + \". \" + split_name[0] # loser name is in the format \"F. Abanda\"\n",
    "    print(loser_name)\n",
    "    i = 999 # position of the winner name in the sentence\n",
    "    for j, sentence in enumerate(content):\n",
    "        if loser_name in sentence:\n",
    "            return 0\n",
    "        if winner_name in sentence:\n",
    "            print(sentence)\n",
    "            clean_sentence = re.sub(r'^[^A-Z]*', '', sentence)\n",
    "            split_sentence = clean_sentence.split(\"/\")\n",
    "            split_sentence = [s.strip() for s in split_sentence]\n",
    "            try:\n",
    "                i = split_sentence.index(winner_name)\n",
    "                if not split_sentence[1-i].isupper():\n",
    "                    return 1\n",
    "            except ValueError:\n",
    "                print(split_sentence)\n",
    "                pass\n",
    "        # if the sentence doesn't contain any letters and contains digits and \"-\" it is probably a score\n",
    "        # we check also that we got the position of the player's name in the previous sentence\n",
    "        if not re.search(r'[a-zA-Z]', sentence) and re.search(r'[0-9]', sentence) and \"-\" in sentence and i in [0,1]:\n",
    "            scores = sentence.split(\", \")\n",
    "            num_of_wins = 0\n",
    "            for score in scores:\n",
    "                split_score = score.split(\"-\")\n",
    "                if int(split_score[i]) > int(split_score[1-i]):\n",
    "                    num_of_wins += 1\n",
    "            if num_of_wins > len(scores)/2: #won\n",
    "                return 1\n",
    "            else: #lost\n",
    "                return 0\n",
    "        if \"MODERATOR\" in sentence or j >20: # the interview already started\n",
    "            break\n",
    "    # if we got here, we didn't find the score\n",
    "    # we will ask Gemini for help later\n",
    "    return None\n",
    "\n",
    "# get array and returns the interview transcript\n",
    "def return_interview_transcript(content, index):\n",
    "    text = \"\\n\".join(content[index:])\n",
    "    text = text.strip()\n",
    "    return re.sub(r'\\s+', ' ', text)\n",
    "\n",
    "# turn content to an array\n",
    "# columns will be: name, cup, date, and a text with the whole interview\n",
    "def content_to_array(content, name):\n",
    "    index = get_index_of_interview(content, name)\n",
    "    return {\"name\":name, \"cup\":content[0], \"date\":content[1][4:], \"won\":check_if_won(content, name),\n",
    "             \"interview\":return_interview_transcript(content, index), \"content\":content}"
   ]
  },
  {
   "cell_type": "code",
   "execution_count": null,
   "metadata": {},
   "outputs": [],
   "source": [
    "interview_data = pd.DataFrame(columns=['name', 'cup', 'date', 'won', 'interview', 'content'])\n",
    "for name in people:\n",
    "    for content in people[name]['content']:\n",
    "        interview_data = pd.concat([interview_data, pd.DataFrame([content_to_array(content, name)])], ignore_index=True)\n",
    "interview_data"
   ]
  },
  {
   "cell_type": "code",
   "execution_count": 10,
   "metadata": {},
   "outputs": [
    {
     "name": "stderr",
     "output_type": "stream",
     "text": [
      "Processing interviews:   0%|          | 17/13698 [00:01<22:34, 10.10it/s]"
     ]
    },
    {
     "name": "stdout",
     "output_type": "stream",
     "text": [
      "Exception!!!  THE LIPTON CHAMPIONSHIPS March 17, 1994 Andre Agassi KEY BISCAYNE, FLORIDA Q. Andre, that must be a very satisfying result. SPEAKER: To say the least, you know. More sothan just beating Stefan the entire week, from Boris, then to playing the contrast in Pioline, then to come back to a guy like Stefan who covers the net better than anybody in the game. It's really given me a lot of confidence. Q. How about being able to win a tiebreaker like that? How important is that right now to your comeback? SPEAKER: I think that was crucial, you know. I think if anything that reflects kind of my state of mind. I'm not really getting discouraged out there; I'm not getting down on myself. I'm really staying in it, mentally, and, you know, working for every point. If it's 40-Love or, you know, 30-All, I'm really forcing myself to want that point and down 6-2 in the tiebreaker and come back to win, it is really a big confidence booster for me. Q. I heard you mention the wind out there; was it a factor? SPEAKER: It's interesting; it was definitely a factor; it was moving, and it's tough to keep the returns low, especially off his heavy bouncing serve. Anybody in the game knows if the ball is even close to the top of the net level, Stefan is going to win the point. I was trying hard to -- when I threw a few lobs, I swore I hit them perfect, then the wind factored in and made it long. Q. Is this new stadium prone to that? SPEAKER: No, I think Florida is it prone to that. Q. Is that the way a lot of your matches go with him, you get on a roll sometimes, then he'll get on a roll, then go back and forth like that? SPEAKER: You know, he's the kind of player that he really, he's tough to stop once he gets the lead, you know, it's so important to keep it close with him and look for those few opportunities you're going to get, and once you get on top of him, you have to stay there; you can't get lackadaisical, you know, like the second set his intensity dropped a little, had he held serve the second game and there is a chance we could be in a third set battle right now. Q. How did you keep him away from the net in the second set? SPEAKER: I just tried to discourage him by doing my best to pass him. I mean really, I really was moving well; I was moving toward the ball, hitting effectively. Really everybody who plays me is a little hesitant just to come running on everything. I think you have to be selective when you approach against me, and he was doing his best to do that. He does that as well as anybody in the world, if not better. So he -- he was just sticking to his game plan, and I was doing my best to mine. I was keeping the ball deep. You give him too many short balls, he can hurt you. Q. How far along the trail back do you think you are now? SPEAKER: Well, I mean, if I was playing my best tennis, I would feel great about this tournament, so, you know, it's tough for me to say. I still feel like I need the match play, I don't feel -- I feel like I missed some crucial first serves in the tiebreaker. I feel there are a couple of things I need to improve on, a few easy volleys that I got a little anxious because it's been so long since I've, you know, really have been in those match situations where you just have to make that. So there is a lot of things I still need to improve, but it's definitely coming along a lot quicker than I anticipated. Q. Can you feel it coming almost match by match, because that's what it appears to be from watching you, anyway? SPEAKER: Yes, there is no question about that. It seems like I go into each match feeling really confident about my last one, but then the match I played takes me to a new level of confidence. It's just, to beat Boris and Stefan back to back like that has been very important to me. Q. Andre, just how much fitter are you, and what did you do to put yourself in this position? SPEAKER: Well, you know, I mean my fitness really speaks for itself, just looking at me really more than anything. But it's been a combination of a lot of things. A combination of diet, a lot of cardiovascular training and weights. It's been an all-around training program that I've been very disciplined about. I've hit a standard physically now that I don't ever see myself -- ever see myself slacking off on. I don't think I could accept any other standard for myself, physically, right now, and it's exciting. It is not so much I just did it; it's really become a way of life for me. Q. Something like -- seriously, no donuts; are you off that kind of stuff? SPEAKER: Well, you know, I mean, we all have our moments. But I just, I try to monitor, you know, monitor my fat intake, you know, and you could do that a number of ways. You could do that by not eating fat, then splurging every now and then, or you could eat a little bit of fat every time, you know, but, you know, sometimes it's this and sometimes that. But I monitor it with how I'm feeling, how I'm looking, and how fit I am. I mean it's not, it's not magic. You just have to be willing to pay the price. Q. Diet-wise, have you had to sacrifice anything you actually really love? SPEAKER: Yeah, my entire appetite. Q. I mean any particular food or item? SPEAKER: There are just too many; really everything. It's -- I mean, I go to restaurants now and it's -- my whole mind set is totally different, you know. It's just a step that I've made because it is important to me. Q. Do you drive by Taco Bell -- I'm not trying to goof on you, really -- you don't pull into Taco Bell or -- SPEAKER: Let me ask you something: Could I still do that and be this fit? Q. Well -- SPEAKER: Is that possible? Do you think? Q. Occasionally, I suppose, yeah. I don't know. SPEAKER: Well, occasionally I may then, you know. Reality, the bottom line is, I'm fit. We don't need to worry about the rest. Q. Andre, I came in on the tail-end of an ESPN interview where it sounded like you said something, mentioned the phrase going back to college. SPEAKER: Uh-huh. What's your question? Q. Are you going to college? SPEAKER: No, no, they just asked me what would I do if I wasn't playing tennis anymore. Something that would probably be important to me would get back to college and go to school. I would enjoy that. Q. To do what, what would you work on? SPEAKER: I don't know, I don't have -- I don't even -- I have no concept of what college is all about, to be quite honest. I left high school early; finished, but left school. So I, you know, I don't know, but I definitely would go. Q. As far as your training is concerned, the basic difference between you now and say 18 months ago that you're doing more varied training, or is it you've changed the number of hours on the court, is everything more intensive, or what? SPEAKER: Yeah, you know, my -- I have -- my gym in Las Vegas that just opened really as my injury came to a peak at the end of last year, about five months ago, and equipment that's been designed with me and my trainer, Gil Reyes, and the equipment is really state of the art and it's not something I would ever really, really show or share with anybody. But it's been a combination of being very disciplined with my eating, being very disciplined with my strength training, with the weights, being very disciplined with my cardiovascular training, running and a few of the machines that we have. And also, on-the-court training. It's just been a total commitment, really. I mean people want to look for magic answers on how to get in shape, and really just, you know, you've got to pay the price, you know. Q. Andre, is this the Andre of old, or are you better than the Andre of old now? SPEAKER: Tennis-wise? Q. Yes. SPEAKER: I should be disappointed if I wasn't better, you know, really the game has moved on, and to be out there competing with these guys, you know, speaks for itself, so I have to say I am definitely better. I think we all are. Q. Do you actually feel better in your general health because of all these things, respective of the tennis? SPEAKER: Yeah. Most importantly, I like the way I feel; a lot faster, and I feel a lot stronger. But that's only reflective when I'm on the court. I don't necessarily walk around, you know, and feel better; I just know I'm strong, and I know I'm capable of going the distance. And knowing that, its really offered me a lot of confidence on the court. Q. Do you enjoy the extra work that you're putting in, or is it a bit tedious and boring and monotonous? SPEAKER: It's only as hard as it is important to you. It's very important to me, so it's not difficult at all. Its a just become a way of life, really. Q. How many hours do you work, rough, a day? SPEAKER: It depends, really. It depends where I am in my schedule, you know. How tired I am from playing. After Palm Springs I was very tired because it's just tough to get back and play matches when you haven't for a while. I took off four days, five days, didn't do a thing and practiced two days before this tournament. But during my five months off, I was going six days a week, hour and a half in the weight room, 45 minutes of cardiovascular training, and at the time, I wasn't playing any tennis. But then my diet is something I do all the time. Q. About your wrist, might you let up on the tennis until the French Open or continue full -- SPEAKER: We're really assessing it week by week. I came back committing to these tournaments because I felt like I'm going to need the match play and I can't count on going out there and winning, but now I've been doing that a little bit, I have to decide on what my next step is and how it feels. I have some time to rest after this week, I have a week off and I'll play Osaka then two weeks off. By the time I get to Monte Carlo, this will be long behind me. Q. During those frustrating months and had the injury and couldn't play, how close were you following what was going on on the tour? SPEAKER: Not very closely, really, at all. I was kind of doing my best to stay away from it because it was too hard being away and being very aware of the fact that I was away. I just tried to pretend, you know, like I was, like tennis wasn't a part of my life, at least for a few months to get through. Q. Are you a good tennis watcher, anyway? SPEAKER: Not really, I hate -- I've never been into spectating, you know. I like to -- if I watch, and especially if I can do it, you know, which is why I watch all the other sports, because I can't do any of them. Q. Andre, this gym, this is not part of your home, this is a private -- SPEAKER: Yes, it's not part of my home. Q. Is it just a public gym that you go to? SPEAKER: No, it's mine. Q. Oh, its yours but -- got it. Okay. A couple of years ago when you started going into various fitness programs and you seemed to have bulked up a lot, with this new program, the diet, exercise, etc., how much have you slimmed down, and how much bulk have you dropped, or what is the position? SPEAKER: Well, you know, bulk is really, I mean, there is a lot of misconceptions about that. You know, if you're building muscle and you're not losing fat, you're going to look very bulky; if you build muscle and lose the fast you're going to look very defined. My weight training has stayed very disciplined and very hard. I've just been able to cut out a lot of fat out of my diet and be able to work out hard cardiovascularly to burn the fat. And then when you're done with that, you have somebody who looks in shape. You can't lift weights to get bulky and you can't lift weights to get toned. You lift weights for muscles and the tone comes from losing the fat. If you don't believe it look it up. Q. Have you set any bench marks for measuring your progress tournament-wise this year? SPEAKER: No, really I'm assessing it week by week because there has been so many variables involved that, you know, I don't know, it would have been quite impossible to even guess how I would respond. I mean, it's kind of been assessing it as we go. And after this tournament, we're going to need to stop and figure how much time I'm going to need off and how much time I'm going to need to get ready and back peaking again for Monte Carlo. Q. Presumably, the important thing is how you feel you play rather than rankings or overall results? SPEAKER: Yeah, you know, I've always said that's a reflection, really how you're playing, which is true, especially at this stage of my career, you know, coming back it is very important for me to be focused on really getting my game to where I feel it should be and the ranking is going to take care of itself. I don't even -- from here on in I don't think I have any -- I don't think I played a tournament from here on in last year, maybe Barcelona. Not maybe, I played Barcelona, and then not till the summer. So the rankings is going to take care of itself, I just need to get out there and let the guys know I'm out there and ready to compete. Q. Andre, was there ever a time you said to yourself, maybe, look, I'm not a kid anymore, I'm really going to be remembered as one of the real greats of the game I'd rather -- SPEAKER: No, I haven't done that yet. Q. I mean a moment of truth as far as -- SPEAKER: Well, that's what I've been talking about for months now. Really I've made, you know, it's not just this emotional, I'm excited to be back. Tennis has become a very important part of life to me. Not that it's bigger than life, not it's my entire life just something I'm focusing 99.9 percent of my energies towards. It's taken a strong priority because it's -- it really presents challenges that I haven't been able to overcome so far, and I really want this for myself, not for anybody else. You know, I'm done with that. I wanted it for my dad for a lot of years, I wanted it for Nick for a lot of years. I wanted it for, you know, a lot of, you know, for approval just from the public, for you guys, you know, really there has been a lot of reasons I felt a need to work my butt off to do something. And now it has nothing to do with that, it's just for myself. Q. Andre, getting back to the rankings, you said Tuesday night that at this point you'd be willing to play number 30 for money right now. SPEAKER: Right. Q. Are you ready to boost that number to maybe 20, 10, or maybe 1? SPEAKER: Well, we had a lot of money on the line today, you know. No, but, you know, I'm playing well, and yes, I know I'm playing a lot better than where my ranking is. I think that's quite obvious, but I got to get out there and prove it week after week. I can't just come out here, have a few good matches and have the people accept the fact I'm going to do it every week. I have to come out here and do it every week. I don't spend too much time thinking about that. \n"
     ]
    },
    {
     "name": "stderr",
     "output_type": "stream",
     "text": [
      "Processing interviews:   1%|          | 102/13698 [00:03<06:05, 37.19it/s]"
     ]
    },
    {
     "name": "stdout",
     "output_type": "stream",
     "text": [
      "COULDN'T DETERMINE  THE CHAMPIONSHIPS June 26, 2022 Carlos Alcaraz Wimbledon, London, UK Press Conference THE MODERATOR: Carlos, how have your preparations been? SPEAKER: Well, is going pretty well. I always say that it's not easy to play on grass, and I couldn't play tournament before Wimbledon, so this week is going to be tough for me. But I'm getting ready. THE MODERATOR: Questions, please. Q. We know you use a lot of kick serves on other surfaces. Have you had to make many adjustments to the serve to play better on grass? SPEAKER: A little bit. Now I'm serving a little bit more the slice and not the kick. But it bounces well when I hit the kick as well. I'm not play as much as I want the kick serve here. Q. You mentioned the switch to grass. I'm wondering for you, what do you think is the hardest part for you of playing on grass, and what aspect of what you do well on other surfaces translates the best to grass? SPEAKER: The hardest thing I would say to move. For me move well on grass is the hardest thing. Well, I would say to play aggressive, trying to go to the net, this the best part translate my game other surface to this one. Q. I saw you today hitting with Dan Evans. You of course have less experience on this kind of surface. Are you trying to copy something or even talk to them to get your feelings as best as you can on the grass? SPEAKER: Yes, of course. I trying to see the trainings of the best players. I think he play very well on grass. I'm trying to copy some things from the best ones. I always watch videos of Federer, Djokovic, Rafa, Andy as well, trying to copy the moves and stuffs from them. Q. You got a win last year in your Wimbledon debut, then you lost to Daniil Medvedev when he was world No. 2. He's now world No. 1, but not playing here this year. What do you think of the fact that some of the world's best players, including the top-ranked player in the world right now, is not allowed to play here at the tournament this year? SPEAKER: Well, is tough to a tournament no allow the No. 1 play. Everyone want to see the No. 1 play in every tournament. Well, is a pity to miss some of the best players in the world. That's all I can say. That's all I can say. Q. This isn't a surface where historically there's been that much Spanish success before Nadal. How much of an inspiration has that helped having seen someone like Rafa adapt his game on grass? For you personally, given that you haven't played much on grass, what are your expectations this fortnight? SPEAKER: Well, of course, watching Rafa is, I would say, more for clay courts. Win so many tournaments on grass. Win twice here in Wimbledon. You think that you are able to adapt your game to grass court. I would say I have a game is going to adapt well on grass, trying to go to the net, playing aggressive. I would say I'm able to play well on grass. Well, I already say I couldn't prepare well for Wimbledon this year, but I always come to every tournament thinking that I'm able to do a good results or even able to win the tournament. Q. This is the hundredth anniversary of Centre Court. What is your impression of what Centre Court means to the history and the special character of the sport? SPEAKER: Well, I said the Wimbledon is one of the most beautiful tournaments in the world for me. The Centre Court is amazing for me. Of course, has been great matches, historic matches, in this court. Well, I remember to watch a lot of matches in the Centre Court since at the beginning of everything, since I was a kid. And, yeah, for me it means a lot to be able to play in this tournament. Well, I will try to pass rounds to be able to play in the Centre Court. Q. Over the years Wimbledon seems to have liked nothing better than youngsters doing well, whether it's Sharapova, Boris Becker, Coco Gauff a few years ago. Do you feel the support when you are around the place at the moment? Do you hope the crowds can help lift you as well in the same sort of way? SPEAKER: I would say yes. I think the people wants to the young players grow up faster. For me, in every tournament that I went, the people support me a lot. I felt the warm of the people. Of course, it helps you a lot to feel the crowd behind you supporting you. Is pretty good for me. And I hope this year in Wimbledon they do the same for me. Q. I'd like to know if when you see a draw, do you see the whole draw? Do you just look at the first opponent? Players sometimes say, Yes, I just look the first. It's not always true. I would like to know. Also after Struff, who is already a strong opponent, have you seen somebody else, like Sinner, for instance? SPEAKER: First of all, I always see the first round, of course. The maximum was until the second round. If I win the first round, I see the opponent of the second round. More than this, I'm not very often to watch the whole draw. Q. Sinner? SPEAKER: I don't know how to say about it (smiling). Q. You've made a lot of very quick movements up the rankings. Youngest guy in a long time to be in the top 10. I'm wondering how important to you are the rankings? How much do you pay attention to that? Do you use that as sort of a way of seeing how well you're doing or maybe they don't mean anything at all to you? SPEAKER: Well, of course, to grow up in the ranking, to be top 10 for me, it's amazing. I see the rankings and I train for, I mean, reach more places in the ranking. But for me right now it's not the most important thing. Just is still getting experience in every surface in every tournament. Right now I'm very focused on the Grand Slams, as well. The ranking for me right now is, like, secondary. I'm trying not to think too much about the ranking right now.\n"
     ]
    },
    {
     "name": "stderr",
     "output_type": "stream",
     "text": [
      "Processing interviews:   1%|          | 109/13698 [00:03<07:09, 31.65it/s]"
     ]
    },
    {
     "name": "stdout",
     "output_type": "stream",
     "text": [
      "Exception!!!  US OPEN August 26, 2022 Carlos Alcaraz New York, New York, USA Press Conference THE MODERATOR: Carlos, your thoughts on the US Open. SPEAKER: Well, it's a great tournament. I mean, I have great memories here from last year. It's a special tournament for me. Yeah, I'm going to enjoy it and going to go for it. THE MODERATOR: Questions, please. Q. When a player's ranking rises, there are always some privileges, perks, that you get on the tour. For you, as your ranking has gone up, what are some of the things you enjoyed or you didn't know that you would get when your ranking goes up? SPEAKER: I would say practice with the best player. I mean, the best player watch your matches and know about you and your game. I would say to know a lot of people. I didn't feel at all the difference between last year, for example, and now. I just trying to be the same kid as always. I didn't feel the difference at all. Q. How can you stay the same when there's so much fandom around you? SPEAKER: It's difficult, but that's how I am. The same kid as always. To be humble, and I always will be the same. Q. I saw you practicing today with Cameron Norrie. What is different in a practice against Norrie as opposed to playing him in Cincinnati? Don't you show some shots you don't want him to see, or is it basically the same? SPEAKER: Obviously, there are a lot of difference between an official match and the practice. The nerves, the tough moments is not the same. I mean, a 3-All in a match and practice is not the same (smiling). Obviously, in a match you're trying some things, you practice some skills that you don't have it. In a match, you always be more, I mean, not super shots. I don't know how to say. You always trying to be more calm and trying to waiting for your best shots. In a practice, you always go for it the first or second serve, just to try new things in a practice. Q. You obviously had a fantastic result here last year. This year you're kind of expected to have a good result here. Does that feel different? Is that hard in some ways? SPEAKER: Than the last year? Q. Yes. SPEAKER: Well, I think in Montreal I felt the pressure and I tried to don't think about that, just to enjoy. My pressure here is to enjoy every match, show my best game. Obviously, I want to do a good results here. It's a really important tournament for me. But I know that if I don't feel that pressure as a bad part, I will go forward. Obviously, my goal here is to enjoy. I think if I do that, I will do a good result. Q. Earlier Leylah Fernandez was in here talking about how she was excited to be on the Babolat racquet packaging. Can you talk about the first time you saw that? Is that exciting for you? SPEAKER: Of course, I'm excited to play with this new racquet here in US Open. I'm a Babolat player since I was 10 years old. I'm excited to still growing up with Babolat and excited to play with it. Q. If you were to get a round further, if you were to reach the semis, do you allow yourself to even think about the possibility of playing Rafa here in the semis, and what would that mean to you? SPEAKER: Of course, it would be amazing for me to play a semifinal here against Rafa, but there are great matches ahead. Yeah, there are a lot of days before going to a semifinal. Of course, Rafa have to win his matches, as well. So it's a long process. Yeah, it would be amazing to face Rafa in the semifinal here in US Open. Q. You played some very long matches here last year when you reached the quarterfinals. 12 months on, do you feel a lot stronger and fitter now? SPEAKER: Yeah, I feel stronger and more prepared than the last year. I did quarterfinals in Roland Garros, as well. I have played long matches, of course, tough matches this year against the top player. I think I'm more ready in this tournament than the last year.\n",
      "ResourceExhausted error, retrying in 1 minute...\n"
     ]
    },
    {
     "name": "stderr",
     "output_type": "stream",
     "text": [
      "Processing interviews:   1%|          | 119/13698 [01:05<3:51:13,  1.02s/it]"
     ]
    },
    {
     "name": "stdout",
     "output_type": "stream",
     "text": [
      "COULDN'T DETERMINE  AUSTRALIAN OPEN January 18, 2013 Nicolas Almagro MELBOURNE, VICTORIA N. ALMAGRO/J. Janowicz 7‑6, 7‑6, 6‑1 THE MODERATOR:Â Questions, please. Q.Â The Lance Armstrong interview today, I was wondering what your thoughts are on drug testing in tennis? SPEAKER:Â I'm not going to say nothing because I didn't see nothing about that.Â I want to see before to speak. I don't know what happened. Q.Â My question is what about the authorities in tennis are doing. SPEAKER:Â You need to ask to someone better than me because I not going to say nothing.Â Sorry.Â It's a very important things, and I not going to talk. I thinks our sport is clear, is fair, and I won't believe that is the only thing I can say. \n"
     ]
    },
    {
     "name": "stderr",
     "output_type": "stream",
     "text": [
      "Processing interviews:   2%|▏         | 215/13698 [01:07<1:14:02,  3.04it/s]"
     ]
    },
    {
     "name": "stdout",
     "output_type": "stream",
     "text": [
      "COULDN'T DETERMINE  CHINA OPEN September 27, 2019 Bianca Andreescu Beijing, China THE MODERATOR: Questions, please. Q. Your impressions so far of the tournament and China? SPEAKER: Yeah, it's my first time in China, my first time at this tournament. So far so good. I'm really enjoying it. The people are very kind. The food is unbelievable. That's what I was looking forward to the most. The hotel is nice. The site is very well-organized. I'm looking forward to the rest of the week. Q. Have you gotten to do much exploring yet in Beijing? SPEAKER: I went to the Silk Market. That was on my bucket list. I got some things. But other than that, no. I just stay at the hotel. I went to the Spa. I heard the facials here are really good. My expectations were really high, but I didn't crush them, so... Other than that, I'm really looking forward to going to the Great Wall of China, though. That probably will be after the tournament because I heard it's really far. I heard it's really beautiful, so it's worth it. Q. What is your comment after the draw? SPEAKER: I actually don't like looking at the draw, so I have no idea who I play (smiling). I mean, you can tell me because I have to know one way or another. Q. What is your expectation? What is your goal? SPEAKER: Who am I playing? Does anyone know? Q. They haven't sent the draw out yet. SPEAKER: Well, I'm feeling pretty confident. I've been having some really good practices lately. I had a good training week in Toronto and in Montreal. Now here. I got here four days ago, and I've been practicing really well. So I'm feeling pretty confident. Q. What was the reason behind skipping Wuhan? I think most of the top players are there this week. What were the goals post US Open before coming here? SPEAKER: Just to relax physically, mentally. Those two weeks at the US Open were very draining in every aspect. I just wanted to take some time off to just take care of my mind and my body, not rush into things. I want to schedule-ize my tournaments, schedule-ize - I don't know if that's a word - properly because I don't want to get injured. I've been getting pretty injured this past year, so I just want to be careful. Q. Is the mindset any different coming into a tournament like this versus a Grand Slam tournament? SPEAKER: No, I don't think so. It's not as big as a Grand Slam, but it's still a very big tournament. There's a lot of tough competitors in the draw. I think most of the top seeds are playing. I'm really looking forward to what I can do. But every tournament I go into, I want to win it. If I play my best tennis with what I have that day, I've done my job. Q. (Question about the NextGen.) SPEAKER: Yeah, I definitely think that the NextGen is arriving. A lot of young athletes are doing very well right now, like many other years before. I feel like this year has been even more. I think it's good. It's nice to see new faces on the WTA Tour. I definitely feel like there are a lot of young athletes right now that can become even better. I think not only me, but a lot of us are paving the way for many other young athletes. I think age doesn't really matter. I think we can do well at any age. What was the last part of the question? Q. Your comments on possibly becoming to No. 1. SPEAKER: I think so. If I keep doing what I've been doing this past year, I think I can.\n"
     ]
    },
    {
     "name": "stderr",
     "output_type": "stream",
     "text": [
      "Processing interviews:   2%|▏         | 220/13698 [01:08<1:13:30,  3.06it/s]"
     ]
    },
    {
     "name": "stdout",
     "output_type": "stream",
     "text": [
      "COULDN'T DETERMINE  SHISEIDO WTA FINALS SHENZHEN October 26, 2019 Bianca Andreescu Shenzhen, China THE MODERATOR: Questions, please. Q. Lots of Chinese fans talked a lot about your dress last night on social media, Chinese style. How did you choose it? SPEAKER: Well, I'm in China, so I wanted to be a little bit more authentic. I know that color means 'difference' and 'royalty'. I'm not saying I'm royalty, but the 'difference' part is that I think I'm pretty different than... I don't know, I bring a different vibe to the game I think. I wanted to showcase that a little bit, hopefully gain some more Chinese fans. Q. One of the fun elements of this tournament is the round-robin format. Have you ever played round-robin? What is your mentality knowing you can lose but still potentially go through? SPEAKER: Yeah, I think they did round-robin during Junior Fed Cup, but that was a team sport which is different. I'm really looking forward to it. I mean, I've never played this tournament before. I've never played a round-robin in singles. It's going to be fun. It's not going to be easy. I'm playing amongst the best women players in the game. I think it's going to be really fun. Q. It seemed like throughout the US Open, even here, you don't seem to feel the pressure at all. Have you noticed a difference in your life since you won the US Open? Is it true that you don't feel the pressure or we're just not seeing it? SPEAKER: There's definitely pressure, for sure. I always say whether the pressure you put on yourself or the pressure from everyone else, but there's always going to be pressure. I found that I deal pretty well under pressure. Don't ask me how. I think my game just elevates to another level unconsciously, which I'm really grateful for. I think that's why I play my best against the top players. That was more when I was an underdog, so let's see how it is now. (After hearing translation into Chinese.) I didn't really understand what you said, but I think you got everything down. You should get a raise (laughter). Q. First-round match that's a rematch of the Australian Open final tomorrow with Naomi and Petra, and first-round match is you and Simona on Monday. What do you think it's going to be like someone for the first time? Also, in terms of that sort of aspect of the format, which is you don't play yourself into this, you're playing the best players right off the bat, how different does that make things as an event? SPEAKER: Maybe it makes it more exciting. But there's definitely some good matchups. It's like you're playing the quarterfinals of a Grand Slam right away. But I got some good practice in. I have some pretty good wins up my sleeve. I think I have some pretty good momentum coming into this tournament. So do all the players, as well. Belinda just won a tournament. Naomi did really well during the Asian swing. I think it's going to be a good match, Petra and Naomi. Then me and Simona, I've always wanted to play her. I'm finally getting my chance. I'm really excited. Q. WTA Finals is the last event of the WTA calendar, also a big party. How many family members or team members did you bring to Shenzhen? SPEAKER: I brought my team, meaning my coach, my fitness trainer, my physiotherapist. My agent is here as well. Also my hitting partner. My parents right now are in Romania, but I think they might make it down here. We'll see. It would be really nice for them to come. Q. Petra Kvitova talked about being the oldest player here in the tournament at 29. You're 19, the youngest. How do you feel? Is that an issue you've thought about? SPEAKER: I think age is just a number. I think anyone can accomplish anything at any age if they really want it. I think I proved that. Petra proved that. Serena proved that. Well, I think right now I don't have much pressure on my shoulders going into this tournament. It's my first WTA Finals. I know I'm coming off a really good year this year, but I'm just going to go out there like any other tournament. I know it's the biggest tournament of my life, but I'm not going to keep saying that to myself. Just go out there and play like it's anything else. Q. I noticed you signed a new deal with Rolex. Can you share any details? It's also a sponsor of this tournament. SPEAKER: Yeah, I got that Rolie on my wrist. It's sick, it's really cool (laughter). I'm not going to lie. It's one of the best watch brands in the world. Being able to be a part of their team is truly incredible. Roger is with them. Having my name amongst his in the books is pretty cool.\n",
      "ResourceExhausted error, retrying in 1 minute...\n"
     ]
    },
    {
     "name": "stderr",
     "output_type": "stream",
     "text": [
      "Processing interviews:   2%|▏         | 227/13698 [02:11<4:05:20,  1.09s/it]"
     ]
    },
    {
     "name": "stdout",
     "output_type": "stream",
     "text": [
      "COULDN'T DETERMINE  MIAMI OPEN PRESENTED BY ITAú March 23, 2021 Bianca Andreescu Miami, Florida, USA Press Conference THE MODERATOR: Questions, please. Q. What have the last few weeks been like for you since Australia? SPEAKER: They were very productive. I've been working a lot on different aspects of things, mentally, just reflecting a lot on playing my first tournament back, as well. Obviously still working a lot physically and preventing a lot of things. Just feeling good out there. Q. How would you feel you are for this week? Do you feel 100% ready? Do you have any goals, expectations for yourself? SPEAKER: I'm doing really, really good coming into this tournament. Yeah, obviously every tournament I want to win. Every tournament I go into I want to win. I want to focus more on the process towards that, which is enjoying my time on court, giving all that I have, just trusting myself. Q. The process of returning to competition has been a very big start and stop in the past few months. I was wondering, are you worried at all about your physical integrity? This has happened a lot. Is there something in the back of your mind or are you completely confident that it's going to get fixed? SPEAKER: I definitely think that it's going to get fixed. I don't think there was anything really broken. It's just going through things, gaining experience. This is technically my second year on tour, so I don't want to put a lot of pressure on myself in that area. But I'm doing my best in preventing a lot of stuff, working a lot in the gym. I do believe that things will be getting better. Q. What is it like to have the Miami Open back? How do you feel about it? Are you excited, fired up about it? SPEAKER: Yeah, Miami is one of my favorite cities. I love the tournament. I did pretty well at it two years ago. Sadly I had to retire. But overall it was a great experience. I'm super excited that it could go on this year. I know last year it wasn't possible, but I'm super excited this year. Q. What is your relationship with Roger Federer in terms of is he a mentor at all? Do you stay in contact with him? SPEAKER: Roger Federer? Q. Yes. SPEAKER: We've actually never met before. I might have taken a picture with him when I was little. I don't really remember. But I've seen him play ever since I was little. He's such a great role model for me, as well, for many, many people. He's really given tennis a lot. He's one of the best of all time. He's definitely a very big role model. Q. There's been a lot of talk lately about the possibility of the women moving to a best-of-five-set format in the slams, possibly for the whole tournament, or after the quarters. Would love your thoughts on playing five sets at slams, if that would be good for the women's game? SPEAKER: I'm good. I don't want to play five sets (smiling). I'm good with three. Q. A lot of people have asked about your physical state coming into this tournament. When you step out on court, are you feeling 100% free to play, not worry about your body, or is it always in the back of your mind? Must be hard after a year or so of struggles. SPEAKER: Yeah, for sure. I guess there is some doubt always in the back of my head. But I'm trying my best to get rid of that. It's not easy. It's a process. But I'm working a lot on that. Just feeling good out there. I think that's the main thing that's going to help me get rid of that. But I am a professional athlete that's wearing and tearing her body. It's normal to have pains here and there. It's not like I'm the only one that's retiring from tournaments and stuff like that. There's so many players that do the same. But, no, I'm feeling confident going into the tournament and trying always my hardest to prevent a lot. Q. I would like to ask you about Leylah Fernandez. She won her first title in Monterrey last week. You are a tennis reference for her. What is your opinion about her? SPEAKER: I've had the chance to play Fed Cup with her. I've practiced with her many, many times. She's a really nice girl, very hard working. I think she has a lot of potential in this sport to do very, very well for many years. I actually congratulated her. I texted her after the tournament. I'm super happy for her. I hope she continues to do well. Q. You mentioned a short while ago that this is technically just your second year on tour, which it is. Yet you're also a Grand Slam champion and have been in top 10 and are considered, like, one of the biggest talents on tour. For you, how do you reconcile those two parts of knowing you haven't played in a long time, haven't really played too much on tour, but also have this level of respect and results under your belt? SPEAKER: Yeah, it's very weird. My success came very quickly. Very, very quickly. It was for sure overwhelming at first. But I think I dealt with it very, very well. I actually enjoyed it. Then having a year off was very surprising and very abrupt after having a very successful year. That was weird. But I tried to deal with it in the best way that I could. Then coming into Australia, I had a very good pre-season. I was feeling pretty good out there. It's different than playing matches, obviously. I was a bit rusty. I don't feel like I was where I wanted to be at the time. It's a process. I've been saying that. My team has been saying that. I'm trying to be as patient as I can to get back up there to feel very good on court. That's just going to take more matches to play. This is going to be my third tournament of the year after such a long period off. Still having that ranking gives me confidence, for sure. Hopefully I can, yeah, just continue to do well and bring back that momentum from 2019 into 2021. Q. Is it difficult not setting high expectations for yourself? SPEAKER: I'm that type of person to always set high expectations for myself, setting high goals, all of that. But now my main goal is to just be happy out there, just enjoy myself as much as I can. Even if my tennis feels off, I just want to take it as something I can push through and feel fulfilled at the end, like after the match. That's mainly my goal right now. Q. Vasek Pospisil is a promotor of the new PTPA, the association that is trying to come in with men and women working together. Have you spoken with him? What do you think about that possibility? How do you think it is feasible that it will happen? SPEAKER: I don't know much about that, honestly. But I think it would be great for the men and women to combine as one so that we don't have something that separates both of us. Q. When we approach a Grand Slam, are you planning to play mixed doubles with probably Vasek or some other Canadian player? SPEAKER: At one point I'd love to do that. Right now I want to focus on my singles game and getting back into play. But at one point I'd love to do that. Q. I wanted to ask you about the Tokyo Olympics, what your level of interest is in the Olympics this year. Their circumstances are a bit unusual with the pandemic and all that. Are you planning to play? What sort of hopes do you have or thoughts do you have about competing for Canada at the Olympics? SPEAKER: I've dreamt at playing the Olympics ever since I was a little girl. It's definitely on my list. I'd love to play this year. Obviously with the pandemic, I don't know what's going to happen. I hope that the vaccine can do something to help out with that because there will definitely be a high risk from a lot of people traveling from different countries, airports, this and that. I really don't know, but I'd love to play. Obviously I want to win it, too. Playing for Canadian means a lot for me. And, yeah, I hope it will work out. THE MODERATOR: Thank you, everyone.\n"
     ]
    },
    {
     "name": "stderr",
     "output_type": "stream",
     "text": [
      "Processing interviews:   2%|▏         | 235/13698 [02:12<3:39:34,  1.02it/s]"
     ]
    },
    {
     "name": "stdout",
     "output_type": "stream",
     "text": [
      "COULDN'T DETERMINE  VIKING INTERNATIONAL June 21, 2021 Bianca Andreescu Eastbourne, England, UK Devonshire Park Press Conference THE MODERATOR: Questions, please. Q. You're coming off a week in Berlin, were only able to get one match in. How do you feel coming into your second warmup event before the big tournament next week? SPEAKER: I feel okay. Last week definitely wasn't as good as I expected for my first tournament back on grass, but I want to cut myself some slack. I haven't played in three years, and I haven't gotten that many matches in this year because of other things. But I have been practicing a lot on grass, have been getting a lot of time on court. Hopefully I can progress in the matches. Q. I want to get your thoughts. The National Bank Open in August was just approved in Montreal. Are you pretty excited about that? I want to get your thoughts and your reaction. SPEAKER: Yeah, I know. It's super, super exciting going back hopefully to defend my title. It will be really, really exciting. Q. You mentioned about not being able to play so much recently, you've had to be patient. Are you a patient person? SPEAKER: Definitely not (smiling). I had to really grow through the years to improve that, which I think it is a little bit, but there are so many different circumstances that keep getting thrown at me to keep testing that. So far I feel like I'm dealing with it okay, and I know it's going to continue to improve. Gotta stay patient with that, as well. Q. What have you learnt about yourself during this period? SPEAKER: Perseverance in obviously not playing but continuing to fight, continuing to train, and dealing with what's being thrown at me I think is one of the most important things that I think I learned. But like I said, things keep just getting thrown at me, and I feel like some days it's harder than others, for sure, but I'm still here and I'm still fighting and I want to win. Q. Just wondering what your memories of Wimbledon are from your debut there in 2017, and also in qualifying the following year. Does that now seem to you a long time ago or not? SPEAKER: It does feel like a long time ago, even though it really isn't. But I remember when I qualified I was playing super well in the qualifying. Then that was off-site. And then main draw came along, and I was super overwhelmed by everything. I'm, like, Oh, my God, I'm playing my first Grand Slam, you know, and it's Wimbledon. I just remember feeling confident but at the same time, like, Oh, my God, I'm finally here. That really showed during my match, and I got whooped, like, 2 and 2. I forgot who it was. But, yeah, I remember coming out of that match just, even though I played like absolute crap, like, I was just so happy to be there. Q. Does it give you extra pleasure that a relatively short time later you're now going back to Wimbledon as a top seed and a Grand Slam champion? SPEAKER: Yeah, it's pretty cool to think that I get to be a top seed at Wimbledon. It's going to be my second main draw appearance, but don't have to go through qualifying or anything like that. So I do feel more confident obviously going into the tournament, but I'm just going to take it match after match, and hopefully I can get more matches in this week before. Q. You have alluded to all these things that keep being thrown at you, but just to sort of reiterate the point, you're in a very unique position. You win a Grand Slam and then, bam, you hit pandemic and can't play for a year and it's just incredible sets of circumstances that literally, well, you're the last person to win a Grand Slam, so no one else has faced. I know you've mentioned it already, but tell us what the last year has been like, because that is so unique that it feels like it needs to be sort of stated again. SPEAKER: Yeah. Don't know where to start. After doing so well in 2019, boom, I get injured. I'm off for six months. I'm ready to play Indian Wells, first tournament back, and then literally that tournament is when everything started. I was there for, like, three days and everyone said it's canceled and I had to go back. I was just at home, sitting on my butt for, I don't know how long, like six, seven months. I mean, I was training for sure here and there, but it was a pandemic. There were so many restrictions. And then other things happened during that time, some health issues with my family and this and that. So it was super hard for me to deal with. But like I said before, I really tried to persevere through those moments. But then something else happened, which was the quarantine in Australia, and then the quarantine in Madrid, me catching COVID. So it's just like these things back and forth. To me, I try to have the mindset of everything happens for a reason, and it's kind of just helped me for the bigger picture and my purpose in life, and I want to try to take every moment as a positive in a way. Even though it could seem like the world is crashing down, I made sure to stay as grateful as I could, because, like, other people have it way worse, you know, so that really keeps me going. I try to have that big picture in mind all the time. Q. It feels like form and (indiscernible) is so crucial in professional sport. I imagine you got on a roll back at the US Open which took you all the way. How difficult is it realistically to recapture form like that sort of straightaway? Is it going to be something that suddenly you can have a great first match, can feel confident and just go from there, or is it something -- I mean, what are your expectations going into next week, given what's happened the last year? SPEAKER: Yeah, it's super different, though. Like in 2019 I was coming as No. 150 in the world, I think, even more, no pressure, just going out there and doing what I love to do. Now it's different. Like, there is for sure more pressure, more expectations that I try not to focus on, but sometimes that's hard. It's just a new circumstance, and I have to learn how to deal with that a little bit better. I don't know if it's going to be a click and everything's going to be okay. I really hope that's the case, sooner than later, but I don't know. I just want to keep dealing with what gets thrown at me in the best way that I can, learn from it, and hopefully I can get back that rhythm really quick and trust the process. Q. Welcome to Eastbourne. Sorry about the rain. It never rains two days in a row, I can assure you of that. My question follows from the other two in a sense. You're coming here off the back of Roland Garros and Berlin venues, big cities. I wonder how much difference the venue makes? Because here you are, for a 500 tournament, Eastbourne is a small venue. Does that help in building your momentum? SPEAKER: I don't really think about that too much. Like every tournament I go into, I just want to do my best and hopefully win it. I guess it's like that unconscious thoughts that you get, like, Oh, it's not a Grand Slam, maybe it's not that important sometimes, but I try not to focus too much on that and just go in and do my best no matter what. Q. I was wondering, in Eastbourne you're not with a coach right now. What's it been like without a coach? SPEAKER: Yeah, that too for sure, it wasn't easy doing that, but we felt that in our hearts it was the best decision. That's another circumstance where, like, I have to get used to because I have always had a coach, you know. But to me, like, I know the game of tennis. It's definitely not the same having a coach by your side, but I want to make sure I don't make a rush decision on the following things that I want to do, coach, hitting partner, this and that. I really don't know yet. Yeah, just going to do my best with what I have right now.\n"
     ]
    },
    {
     "name": "stderr",
     "output_type": "stream",
     "text": [
      "Processing interviews:   3%|▎         | 394/13698 [02:16<50:05,  4.43it/s]  "
     ]
    },
    {
     "name": "stdout",
     "output_type": "stream",
     "text": [
      "COULDN'T DETERMINE  CHINA OPEN October 2, 2011 Victoria Azarenka BEIJING, CHINA THE MODERATOR: Questions, please. Q. (Through translation.) I've got two questions: Last week you were playing in Tokyo and you had a good performance. What is your target in this year's China Open? Second question: When China Open organizing committee was trying to recruit new names for the new stadium, you gave your choice for the new stadium as the Diamond, which is exactly the name we are using. Have you been to the center court, and how do you like the new court? SPEAKER: Okay, first question, yes, it was a good performance in Tokyo last week. I'm looking forward to playing in China Open. Last year I got injured here, so I didn't really get a chance to perform my best. But it's a big event, and I'm looking forward to my first match. About the stadium, I haven't been playing there yet because I just arrived last night. I actually voted for the name to be Diamond Arena, so I'm glad they named it that. I'm looking forward to go out there. I'm sure it's going to be amazing. I just saw a little bit of the pictures from the outside. Q. You went to the New York Fashion Week during the US Open, and separately saw as a model. Tell us something about this story. SPEAKER: Yeah, it was very surprising to walk on the runway for me, because I didn't know that -- I didn't realize that I'm actually going to walk runway. I thought I'm just going to attend the show. (Smiling.) But it was a fun experience, you know, definitely different from what I do daily, you know, playing tennis. It was fun, but definitely I'm going to choose tennis every time over the modeling. It was great experience, and I would love to do that again for sure. Q. With Li Na's success in the international tennis court, there are more and more young Chinese players or young people interested in tennis. Do you have any suggestions for them, because you were really successful as a junior player? SPEAKER: Yeah, thank you. I think it's very good for the sport, and especially for China, to have somebody likely Li Na making such a big success so more people can get more involved in tennis and be more introduced to tennis. That's what we're all are hoping for. For the kids, I think the biggest suggestion I can give is to always believe in yourself and have fun on the court. Because when you enjoy doing something, you will always succeed better than when you're out there and just somebody really push you. I think it's very important to enjoy it. Q. In the United States in the Grand Slam you lost to the opponent Li Na, and Kvitova and Serena Williams all have step into the Grand Slam finals. I feel a little regret for you. But you are still in the top 5 players, so I think you are a very promising player in the next few years. What's your next plan? To be the No. 1 or to win the Grand Slam? Which one will be the first to go? Thank you. SPEAKER: Thank you for your kind words. The goal, you know, there are two ultimate goals for me: to be No. 1 and to be winning the Grand Slam. Whatever comes first, I'll be happy with it. But hopefully I can do that in one time. Becoming No. 1 while winning a Grand Slam, that would be the dream coming true. Q. You have already secured your trip to Istanbul in the end of the season. Congratulations. SPEAKER: Thank you. Q. Also there will be Petra Kvitova and Caroline Wozniacki. People talk a lot about you three because you're all very young and excellent players. SPEAKER: Thank you. Q. I want to know, if your opinion, what's your advantages compared to them in terms of power, tactics mental toughness, and things like that? Thank you. SPEAKER: Um, I think we are, the three of us are completely different players. You know, we have our own game style, which I would say me and Petra have a little bit more in common. We are a little bit more of an aggressive kind of players. But it's tough for me to judge what's better for me, what's worse from them. I think it's different people's opinions. But, yes, we are all young and really want to succeed. Petra is one who just recently won a Grand Slam, so she has an advantage in that over me and Caroline, and Caroline is No. 1. So it's kind of a controversy and good competition, I would say. So I think it really lifts us up to be better every time. You know, I'm glad that I qualified. Well, definitely going to be tough with these players in the draw. But, I mean, that's what we're all working really hard for the whole year, to establish your place in that last competition. Q. I think you're as good as when you're in the doubles court, playing doubles, you're just as good as playing single. Do you have a preference? Do you prefer playing doubles, or is singles is like more of your style? SPEAKER: Well, singles is definitely always a priority. Doubles is I would say more fun. When you play doubles you have less pressure, you're not thinking about... So how you say? I forget the word. Anyway, you're not so focused on doing such a good result, even though you always play to win. You're just more relaxed, I would say. In doubles also it's important I think to have a good partner, somebody who you enjoy play to with and who no matter what is always supporting you. I have that kind of partner, so for me it's a double win. \n",
      "filled:  1 not_filled:  9\n"
     ]
    },
    {
     "name": "stderr",
     "output_type": "stream",
     "text": [
      "Processing interviews:   3%|▎         | 428/13698 [02:17<40:04,  5.52it/s]"
     ]
    },
    {
     "name": "stdout",
     "output_type": "stream",
     "text": [
      "COULDN'T DETERMINE  AEGON INTERNATIONAL June 20, 2016 Timea Bacsinszky Eastbourne, England THE MODERATOR: Questions, please. Q. You're not one for doing warmup tournaments, really. So why Eastbourne? SPEAKER: Last year I was supposed to play some warmup tournaments. I was supposed, but I had to withdraw from all of them because I got injured back home practicing after the French Open. So that's why I canceled them. The year before, well, I was playing the quallies at Wimbledon. So if you remember. I know. I came back quickly. But, no, this year, well, I decided just to play one tournament before Wimbledon because my year is going to be anyway so busy with all the travels. So days back home, your own bed, are priceless for me. So it depends. Maybe some players they like to travel worldwide every week, but I'm not that type of player. I like to stay a little bit more home. And especially when I played almost like, yeah, five big weeks on clay, like longer, even six weeks with the week of break between the Madrid -- no, between Rome and the French Open. And, well, it's a lot every day to be able to focus on every match. So if you don't rest your mind and your body at a certain point you're going to get injured or you're going to have a burnout and I want to avoid that. Q. Does that time help you make adjustment from the clay to the grass? Do you feel maybe a bit more ready? SPEAKER: Well, definitely more ready than last year before Wimbledon, because I went there without playing like being injured and I ended up playing a quarterfinal. So definitely feel more ready for competition right now even a week before the Grand Slam. But, well, the conditions aren't easy, as well. So doesn't help to get well prepared for grass or for Wimbledon. And the courts are quite different. Last year it was quite dry, as well, in London, so the bounce of the ball was really different than in 2014, like for me. And right now it was a different feeling as well here for me than last year on grass. You have to adapt for any kind of situation. I don't think there's -- it's like on clay -- hard court is different. But it's like on clay. I feel grass is like on clay adaptation-wise that one day is can be super sunny and the other day it can be pretty humid and the conditions are changing. You cannot compare one day to the other one unless the whole week you have good weather. Well, I really hope so, but so far -- so far it doesn't look like it's going to be like that. So, yeah, that's why adaptation-wise I don't know if I feel ready or not. I take day by day how it comes, and I try to deal with the conditions of the day and trying to make the most of each day. Q. What is your relationship with grass? Do you like it? Is it a particularly challenging thing? How do you describe it? SPEAKER: I was kind of afraid of grass for many years, but since I came back in 2013 -- so it was my second tournament I played after deciding that I wanted to play again. So I played the French Open, like everyone knows the story, blah, blah, blah, the e-mail, stuff. Then I went back to work. And then I was also in the list of Wimbledon. So meanwhile, I was working and, well, I said, Okay, let's go and play Wimbledon. It was funny because I practiced like five days before, and so my coach was there with me, as well, but only for one game. I played against Madison Brengle and I ended up winning 6-4 in the third. For me it was like a miracle, like coming from nowhere playing in Roehamton, which is like a potato field. For all my respects to Roehamton, they are trying their best, but it's not really the most glamorous grass court ever. With those like funny conditions that like everyone's over there and you have many courts everywhere and it's like a bazaar. It's like a zoo over there. I ended up winning a match. I was like, wow. And almost won my second match but I lost against Schmiedlova 7-5 in the third. Well, this was already amazing for me in 2013. And then the year after I play Nottingham, 50,000, and I remember it was so challenging for me playing over there. I saved like five match points in my second-round match and then ended up playing the final to be maybe able to get a wildcard for Wimbledon. Then I totally choked. I lost like 2 and 2. I couldn't play. But already it was something different, like, wow, I know I can -- sorry, you asked the question but I keep looking over here. Too many informations. I cannot treat them like... And, well, then won my first match in '14 against Fichman, was as well a big challenge for me playing on a big court against Maria. And then I couldn't really show what I was able to because I was probably had too much pressure, and she was putting too much pressure, as well. But already I was feeling that it's gonna -- it might suit my game better. And then last year I ended up in quarterfinals beating, especially for me it was a big challenge to beat Lisicki and Niculescu. Like we say in French (speaking French) like Black Beast. I barely won against her, and especially on grass with her slice it was a challenging match for me. Probably I lost a lot of energy than before my quarterfinals. But I was already -- it was already like if I would have win Wimbledon for me. Well, I feel that my game suits, I mean, grass -- my game is quite good right now on grass because I'm able to play longer rallies if I really need to. Even if -- I know you cannot really defend, it's not good to defend on grass, but I can be in that position to give one extra ball back for my opponent and to mix up with the spins to be able to come to the net, to be able to maybe do a chip and charge or -- I'm not saying -- I'm not even at 1% of Roger's level in that, but I'm trying to improve my game and to make, yeah, everything possible what I can that can help me to play well on grass. Q. We asked Belinda when she won last year, what is it about the Swiss and grass? Because they all seem to be very good on it. She laughed and said, I don't know, because in Switzerland grass is for cows. What is it about grass that seems to sort of lend itself to your compatriots and yourself? SPEAKER: Well, we see grass every day. It's nice. Switzerland is clean. We have a lot of fields. Q. She mentioned she practiced on clay courts in Switzerland and said the clay courts were so bad it was almost like playing on grass. SPEAKER: We are not practicing at the same place then. (Laughter.) Well, it's also going to be an answer even if it was not your question but it can also answer that question that everyone is asking me why are Swiss players playing so well. I think it's not something about the surfaces but it's more that being in the middle of Europe tennis-type-wise you have all those influences. French are playing in like they like the nice game (speaking French) coming forward, making big shots, aesthetically nice, a lot of culture of tennis. Then you have the Spaniards fighting for every point, they don't care. Like, oh, shit. It's getting really official these things. The first time I'm doing this kind of press conference I know I cannot behave like I would normally. (Laughter.) And they just like go for every -- try to give back so many balls, try to make work the other one. Okay, you're gonna say not every Spaniard, for sure. There is all the time the exception. Muguruza is not that type of player. But anyway, you see almost all the rest of the Spanish players -- you all the time have an exception. But whatever. Really the majority of Spaniards are like, okay, I'm going to fight for everything, and the spirit of clay court. Even if I have to chip everything, I'm going to win the match even if it's ugly. Even if it's playing with the other side of the racquet, I don't care. And then you have Italy can be also like this. It's a mixture. And then you have Eastern Europe, which are based on the baseline hitting everything, going for the lines, trying to take the ball early, putting a lot of pressure. And it's also a type of play. And then all my respect for Swedish players, they are not as good as they were before. So I don't know why, but they have great coaches, amazing coaches. No, but probably I don't know well enough how they were playing before to be that good, because I was probably too young and I wasn't that interested in tactics and stuff like that. And then just Europe-wise, why Switzerland, why we have so many maybe good players? We have all these influences. I'm not even tired but I can't speak anymore. And I think that's why it's like in the Swiss mentality you're open for everything. We have to learn more languages, we have to -- every kid has an education. Everyone -- most of the people have a job, a decent job. They work hard. We like to work. It's all the system which works. And maybe it's a small parallel to say that maybe that's why we can also play well on grass, because we are open minded. We say, okay, we are gonna fight for every point. We are gonna try to hit balls. We're gonna try maybe new things and we are going to accept the situation and how it is. And so we go for it. I don't know if you understand the point or... Q. No British influence? SPEAKER: No British influence? No. I mean, we're surrounded -- before going to like England we are surrounded with France, so we have to pass France first to go to England. So it's too far, England. But France's influence has a good influence, probably, as well, on tennis. No, but that's why I'm thinking maybe we are this open-minded thing we have in Switzerland, helps us right now in tennis and maybe indirectly on grass. I'm saying that and I'm going to make first round here, first round at Wimbledon. Anyway. I don't know. Q. How do you pass the time during rain delays? SPEAKER: I have my best friend here with me. She's at the same time my coach, my boyfriend, and my physio this week because I'm alone with her. No, it's nice to have her here with me. Usually I travel with my whole team but my coach is on holiday. My boyfriend went to see the soccer game yesterday in Lille and it's organized for such a long time. He's like, no, I don't care, I don't come to Eastbourne. And then my physio, he has to work also sometimes home because he's struggling already so much with me. But they're going to come, as soon as I'm done here, they're going to get to Wimbledon at the same time. But yesterday it wasn't raining, so I had a quite busy day with this Redoubt Fortress clinic with Petra. I practiced two hours in a row. And some physio, as well. I went also a little bit in town with my best friend. In the evening there was a soccer game, and we ended up being in the same bar as Courtney. Had a nice chat, as well. We were cheering for the same team. Not going to say which one but... And, yeah, but otherwise I read. My best friend is leaving tonight, so I'm going to enjoy more time with her this afternoon, maybe going into some shops, not under the rain. But, yeah, we'll see. Q. You talked about Swiss influences on tennis and your game. Do you think that there are any Hungarian influences in kind of how you are or how you play? SPEAKER: Definitely. I think my background has helped me a lot with who I am today. It's what -- even my never-going-to-be-again relationship with my dad, I know that he's -- when you are a kid, you all the time look at your parents, because they are the only thing that basically you see every day. And how my mom and my dad were when I was a kid, not regarding how they were behaving with me, but how they were and also with other people and maybe telling me you have to fight for what you have, you have to fight for who you want to be, you have to this thing that -- it's not only given. You have to go and work for what you really want to get. It's probably why also I'm restless and also everything -- if I commit to something, I really want to go to my maximum. I never know where my limits are, where my maximum is, but I'm trying to seek it. It's probably because of the Hungarian influence, because they have been beaten so many times in war. They were such a big empire. And then long, long time ago. But we are also quiet population. In Switzerland, if you don't see -- you don't say, Oh, I'm a proud Hungarian. Other countries, they would all the time have the flags and stuff. But Hungarians are -- I believe in foreign countries they are really super, like, quiet. But we have this willing -- I'm saying \"we.\" I'm not gonna speak for others, but I have this willing and probably it's coming from that. Like, okay, you have to fight. Like my dad fought to get away from Romania. He was Hungarian but in the Hungarian minority of Romania, and he couldn't pass the borders and had to arrange a marriage in order to get out. I mean, political refugee. It was really tough. My mom had an easier situation, but I know it wasn't easy for them. And I grew up with that. So that's why I fought all the time for everything, what I did. It's probably because of that. And that's why you see -- maybe you have seen this awesome video of Hungarian fans in the streets of Marseilles marching. But still when they won the game against Iceland -- yeah, tie, sorry. But they are still No. 1 in the group, right? And for them it's like finally they have maybe something that they can raise their voice for. It was really, knowing the story of this country, it was a really touching video. And they weren't hooligans or whatever. They were like Irish fans, like really nice, and they were just like super proud and finally like having something together. I mean, I don't know. Touched me a lot, because I found myself as well in that, as well.\n",
      "ResourceExhausted error, retrying in 1 minute...\n"
     ]
    },
    {
     "name": "stderr",
     "output_type": "stream",
     "text": [
      "Processing interviews:   3%|▎         | 459/13698 [03:19<2:18:51,  1.59it/s]"
     ]
    },
    {
     "name": "stdout",
     "output_type": "stream",
     "text": [
      "Exception!!!  WTA FINALS November 9, 2021 Paula Badosa Guadalajara, Mexico Press Conference THE MODERATOR: Paula, last night was your first experience, draw ceremony and gala. What did you think of it all? SPEAKER: It was different. So, yeah, was my first time. It was fun. As I always say, as well, I'm lucky to share with the best players in the world. We have good relationship between us, so it makes even more fun. I had a good time with all of them. It was nice. It was nice. We had a little bit emotional part. It was exciting. So I'm very happy and proud to be here. THE MODERATOR: Questions, please. Q. When did you arrive? What do you think about the court situation as far as speed of the court, how the ball is flying through the air? Is it reminiscent of Indian Wells at all? SPEAKER: Yes, I arrived few days ago to adapt. It's difficult to adapt. The ball flies a lot. It's not like Indian Wells. Maybe it could be a little bit similar because it bounces, but nothing. You can't even compare. Here it's very tough to have control of the ball. As I said, it flies a lot. I'm trying to adapt the game a little bit, but it's tough conditions. The good part is that it's the same conditions for all of us, so... Q. Is the court fast or slow? SPEAKER: I think it's slow. It's inter-medium, maybe slow. The thing is the ball flies so much, doesn't even care how the court is (smiling). Q. How much were you able to decompress, relax, celebrate after Indian Wells? Did you feel like you were able to savor that accomplishment before getting here? What is your mindset and where are you at as you're about to play the Finals? SPEAKER: To be honest I didn't relax so much. I had maybe 10 days after Indian Wells, then to come here. 10, maybe two weeks. I don't remember. It was quite stressful. I know it was my first time winning a big tournament, so a lot of new things. It was quite stressful at home, as well. Maybe I remember having one Sunday off, completely relaxed after 10 days. I was like, Okay, now I can relax and maybe celebrate a little bit. But it was tough. I had to do a lot of things. It was a big change. But I know it's like that. Here I'm with my family, as well. I brought people just to enjoy. Of course, I'm working hard. I think last tournament of the year, I had a very intense one, I wanted to try to do both things. After here I need to, like, calm a little bit, at least one week, think about everything that have happened. Q. One of the things that's happened since Indian Wells is that you've made your top 10 debut, a big feat as well. Starting the year you were one of the three players at the Finals who was in the hard quarantine in Melbourne. All of you have been able to navigate that. When you look at the fact you are one of the 10 best players in the world, what does that mean to you? When you look back on your season, how do you think you did it? SPEAKER: It means a lot. I will try not to get emotional, but I've been through a lot. I'm very proud of myself. I think I did a very good year. It always has been a dream to me to be in top 10, one of the best players in the world. Now it's coming true. Yeah, at the beginning of the year I remember having a conversation with my coach after Abu Dhabi, my first tournament. He said, You keep playing like this, for sure you're going to get the top 30. I was like, That's impossible to finish the year top 30. Top 50, I can sign here (smiling). Imagine I finished the year top 10. What can I say? Yeah, I didn't even expect it. Even less expected to be here in the WTA Finals. Q. What are your thoughts on your group? SPEAKER: It's a tough one. What can I say? I knew I was going to have a tough group. They're all amazing players. I know I'm opening with Aryna. She's No. 2 in the world, one of the favorites here. I know it's going to be a tough one. All of them, they're playing well. The others in the group, they can adapt quite well in altitude. It's going to be a tough group but I'm ready for it.\n"
     ]
    },
    {
     "name": "stderr",
     "output_type": "stream",
     "text": [
      "Processing interviews:   3%|▎         | 472/13698 [03:21<2:03:32,  1.78it/s]"
     ]
    },
    {
     "name": "stdout",
     "output_type": "stream",
     "text": [
      "Exception!!!  DUBAI DUTY FREE TENNIS CHAMPIONSHIPS February 13, 2022 Paula Badosa Dubai, UAE Dubai Duty Free Tennis Stadium Press Conference THE MODERATOR: Questions, please. Q. You entered the top five for the first time. How does it feel? SPEAKER: Amazing. I'm very, very happy of it. Very proud of myself. I didn't expect one year. I wasn't even in this tournament, I was in quallies here. So being here top five, as a seed, it's an amazing feeling. Q. I feel like you've been here a little bit with your family. Tell us what you've been up to. SPEAKER: Yeah, I really like Dubai. I have an apartment here as well. I came a week ago already. I try to spend time with my family. I never can. When I can, here it was easy to have them, so, yeah, I've been a few days with them and enjoying. Q. You decided that Dubai is kind of like a second base for you? SPEAKER: Yeah, could be. Yeah, second base here. Been practicing here sometimes. I really like it. I really enjoy the city, weather. People are very friendly. It's very easy here, the facilities. It's a very nice place to be. Q. How do you feel your season has started given the way you finished it? Was there worry over how you would start the year? Did you surprise yourself with how well you did? SPEAKER: Well, you always have pressure and expectations. People are, like, watching what are you going to do this year. Of course, I have pressure. Of course, I was feeling at the beginning of the year. And it's going to be like this the entire year if I keep this level and this rank. They all play like nothing to lose against you, so they're very tough matches when I play. But I think I'm getting through it very well. I played very good level in Australia. I played a lot of matches. I'm with confidence. I'm playing well. Of course, I will always be a favorite for the moment. I will have that pressure. But it's a good pressure and I enjoy that kind of pressure. Q. I wanted to ask you about Ash Barty. What did you make of the way that she won the Australian Open? SPEAKER: Unbelievable. I followed and I saw the matches. I saw the final. She play so easy. It looks easy, no, what she does. She's amazing. She's a very talented player, very humble. She really deserves it. I mean, she's the best and she's showing that she's the best every tournament. So, yeah, it's unbelievable. Q. What kind of goals have you set? Are you the kind of person who sets these smaller goals throughout the season or is it one big goal for the whole year? SPEAKER: No, maybe it's more in the moment. Like maybe I have to improve some shots or it depends. Like, maybe I'm playing this opponent, so I played against her, saw something she's doing very good, I want to do it as well. It's a little bit small things. But then the big goal is keep improving. You always have things to improve. Keep enjoying, keep competing. I want to stay here, in the top five, top 10, playing, winning big tournaments, playing in final rounds of tournaments. That's what I work hard for. That's my main goal this year. Q. I saw you've done some photo shoots and stuff like that. Your parents have a background in modeling, your boyfriend as well. Do they give you tips on how to do these things? SPEAKER: I have to be honest. Of course, my priority is tennis and I love to play tennis. But I kind of like these kind of things because I grew up with it. I kind of do it alone for the moment. I don't need their tips. But, yeah, I enjoy it as well. I try to enjoy it. Sometimes it's a little bit stressful because you don't have time for everything. But I try to schedule my day quite okay. So for the moment it's nice and I enjoy it. Q. Is there any specific first magazine cover you've done or a first poster or something like that that you were seeing and feeling, Wow, this is quite cool, you were excited to do it? SPEAKER: I did Elle and Vogue this year, so it was quite nice. Some Spanish magazines that are important. Yeah, it was very exciting for me. We used to buy these kind of magazines at home for my mom or everything. Now I'm doing the photo shoot for them. It's amazing. Q. What parts of your game do you want to work on the most at the moment? SPEAKER: Well, I think I'm a very quite solid baseline player. I try to hit aggressive, but at the same time find that balance to be solid. I think I want to be keep improving on that, of course. Maybe close more in the net. Of course, improving a little bit more in my serve. I have big serve, but sometimes it's not as good as I want it to be. It's small things. Of course, mentally I have to keep improving. My physical is the same. It's just small steps forward that I want to keep making. Q. Every time I ask a player who is one of your friends on tour, you're always on that list. For you, what does it mean for you to have these kinds of relationships on the tour? Why do you think in the past people used to say you can't be friends on tour. SPEAKER: Yes, that's very nice to hear. For me it's the same. I really think like that. I mean, this month that I haven't played, these last 20 days, I've been in touch with a lot of players. It's very nice to see. I think now players know how to separate things. You can compete on court, but you can have a good relationship. After all, you spend a lot of hours seeing each other during the year, so I think it's easier and the energy is better. A few years ago, of course, it was much different. I really don't know why. Maybe they wanted to start the match in the locker room. It doesn't make a lot of sense in my opinion. But I think luckily that's changing. We know that on court I'm the first one that I'm very competitive, I don't want her to be my friend there. But when I see my opponent in that case doing the same, I'm like that's how it has to be. We going to be friends after all or we will have a good relationship. Nothing change. I think everyone has to focus on we have our own career, doesn't matter if you lose that tournament, you lost, doesn't matter who wins that tournament. I think that all kind of things are still improving and we're getting better on that. I think that's very nice. Q. Who do you think is your toughest contender this season? SPEAKER: What can I say? I think everyone is going to say the same answer. I think it's Ashleigh Barty. I said the other day to my coach when she won the tournament, I was like, She's very good, but I want to play against her again. I want to see how it feels. She makes everything easy. Tough matches, she makes it easy. I'm just watching and watching her. It's amazing. For me she's very similar on the male side with Federer. She does everything, like, with a lot of flow and very easy. But, yeah, I think she's the target for everyone (smiling). Q. You also have a very interesting draw. You have Simona Halep, the crowd favorite over here Ons Jabeur. Any strategy going into the first round? SPEAKER: No, I'm practicing okay. I'm getting used to the conditions. The balls are different, as well. We have to adapt yourself. I don't know who I'm playing first round, but for sure is going to be a tough one. Quallies, the 35 in the world is playing quallies, so it's kind of crazy. It's going to be a tough match. Of course, if I keep winning, you play against top players. This is what we practice for, to play these kind of matches. It's going to be exciting. Of course, I will try to put the show on and let people enjoy it as well. That's important. Q. How do you pick yourself up for an upset or early exit? SPEAKER: That's another goal I have to improve because, of course, I hate to lose. Before maybe it took me two, three days to get back to normal. Thanks to my team as well, they're doing a very good job. Of course, sometimes I practice maybe not the way that I wanted or the match didn't go the way that I wanted. I'm frustrated and I'm sad. I have an amazing team that supports me in that. They say, You're going to lose every week. We have to start to take, like, the losses a little bit better. I think it's one thing that I have to start improving a little bit better because I see a lot of players, including world No. 1, when she loses, it's okay, nothing happens. I'm learning a lot from them as well on that because it's not a big thing, you're going to lose every week. Barely you win a tournament. In an amazing year you can win three, four tournaments. You have to get used because in tennis you lose a lot. Q. Regarding Rafa winning the Australian Open... SPEAKER: They asked me that in Spain, of course. I didn't know what to say. I was shocked. I'm still shocked. It's like unbelievable. Not even unbelievable that he won from two sets down, because only Rafa can do that. Against who he did it, you know? He's doing it against the world No. 2. I have no words really. He's been an inspiration for me. He's my idol. Seeing him do this, look, I'm getting emotional (goosebumps). It's amazing for our country and for the sports world. Not even for that, but, I mean, for life. After that I said to my coach, I'm not going to complaining on anything, I'm not going to say I'm tired anymore. It's amazing. I hope they never retire. I know that's saying a crazy thing. But that would be perfect. Even Rafa, Federer or Novak, they're amazing really. Q. It's your first time here in Dubai playing. I'm sure the crowds will be excited to see a different kind of player. What expectations have you set for yourself in this tournament and going forward? SPEAKER: Well, I always have high expectations. I always had. When I go to a tournament, I want to win it or be in the final rounds. Of course now the situation, it could seem like, Oh, she's favorite and she can do it. Of course, matches are very tough. There are always surprises in every tournament. I want to do well here. I like Dubai, as I said. It's like my second home. Of course I'm very happy and I'm very excited to be here and to see new fans because I have never played here in Dubai. Well, my expectations? I hope I can be here in a few days saying that I'm playing the final or the semifinals. That's my goal. But even if it doesn't go my way, I have next week another tournament. I will try to give my best and let's see how it goes. Q. Is there anything specific about Dubai that keeps bringing you back? SPEAKER: I think everything. It's an amazing city, has a lot of good energy. The weather, it's amazing. People are very friendly, very nice. I feel very comfortable being here. Everything is very easy, facilities. It's nice. You have beach. You have city. That's perfect to me.\n"
     ]
    },
    {
     "name": "stderr",
     "output_type": "stream",
     "text": [
      "Processing interviews:   3%|▎         | 475/13698 [03:22<2:02:56,  1.79it/s]"
     ]
    },
    {
     "name": "stdout",
     "output_type": "stream",
     "text": [
      "COULDN'T DETERMINE  QATAR TOTAL ENERGIES OPEN February 20, 2022 Paula Badosa Doha, Qatar Flash Interview Q. You have had an incredible 2021 season. Tell us if that is part of the benchmark you've set for yourself moving forward and what your goals are here in Doha. SPEAKER: Yeah, I think last year I had a very good year. I got a lot of matches, a lot of experience. It was a little bit of roller coaster but a very positive year. Of course I'm starting the year and it's another thing. It's a new year, so of course I started as a different ranking. Of course maybe now I'm playing as a favorite, so I'm having this kind of challenge this year. But I always will have a challenge, and it's nice to be in this position. I'm really looking forward to play here, to play tough matches. Not even here. Next tournaments I think that's what I play for and to play big tournaments, to be in the final rounds. I'm working for that, so I'm really looking forward to that and I'm motivated of this season. Q. This being a new week here, what are your reflections on last week and what you'd like to focus on? SPEAKER: Yeah, well, to be honest, on that, I think of course all the matches are tough and that you can lose against anyone because the level is very high. But maybe here I'm going to be a little bit tough. Of course I'm not happy that in the same swing, they are changing the conditions a lot, like for example the balls. I think that's tough, because when you are playing, for example in Australia, we play with the same conditions all the tournaments. And of course if they win me or if they play well, I just have to say, Too good. But when they change in the same swing and they change the conditions every time, it's tougher for us, for the players. Of course maybe I'm the only one saying it, but I'm not the only one thinking it. It's something that maybe we will have to start thinking about, because changing every tournament the balls or the conditions, it's already pretty tough for us to handle a lot of things that if we have to handle things, extra things, it's not easy for us. Q. What are your impressions here just being in Doha? What are your thoughts? SPEAKER: Really nice. As I said on the last question, here it's different. I think it's the same conditions as Australia, as well. So for me, I have an opinion that maybe we will have to play with maybe same balls, for example, the entire year or at least on the same courts. For clay, one balls; for hard court, one balls; for indoor. Because if not, it's getting very tough. But as I said, here in Qatar, the balls are as I played in Australia, and of course anything can happen, but at least the things that are not in your control are a little bit better. I'm feeling better. I think I have been here for three days. I'm getting adapt on the conditions, and I'm really looking forward to start here. Q. Just in terms of being off court and being in the city, what are your impressions? SPEAKER: Yeah, very nice. My first time here in Doha. I wasn't expecting Doha like this, to be honest. I'm really surprised. It's a very beautiful city, very calm. I really love it. I'm really enjoying Doha, and for sure I will be back here because I love this tournament.\n",
      "ResourceExhausted error, retrying in 1 minute...\n"
     ]
    },
    {
     "name": "stderr",
     "output_type": "stream",
     "text": [
      "Processing interviews:   4%|▎         | 481/13698 [04:25<5:49:07,  1.58s/it]"
     ]
    },
    {
     "name": "stdout",
     "output_type": "stream",
     "text": [
      "COULDN'T DETERMINE  INTERNAZIONALI BNL D'ITALIA May 8, 2022 Paula Badosa Roma, Italia Press Conference THE MODERATOR: Paula, can you start off and tell us how it feels to be in Rome. SPEAKER: Yeah, it's nice to be here. It's my first time in this tournament. I know it sounds funny, but it's like that. I'm really enjoying a lot. It's my second day here practicing. I really like the venue, the people, the atmosphere, the energy. So, yeah, I can't wait to start here the tournament. THE MODERATOR: Questions, please. Q. Why you never played before in Rome? SPEAKER: My record was so bad, I couldn't enter this tournament (smiling). Last year I could play quallies. I did well in Madrid, so I couldn't fly here. Yeah, I was very sad because I was really looking forward to come. The other years, I was too bad (laughter). Q. Does that put in perspective for you just how crazy your rise has been, to be here the first time, you're the No. 2 seed? SPEAKER: Yeah, it's a little bit surreal to think all this last year what's happening. Yeah, so that's why sometimes mentally it's a process to accept all these kind of things, to learn how to deal with the pressure as well. Yeah, well, I think I'm learning. I'm proud of how I'm doing this year, yeah. It's a little bit crazy. Q. Tough match for you in Madrid. How did you work to kind of regroup and reset after that loss? SPEAKER: To be honest, it was very tough for me that tournament since the beginning. As I said at the last press conference when I lost to Simona, it felt like I played five tournaments, a lot of stress, a lot of pressure. Starting a tournament with that tough draw, hearing all the time that you're the favorite to win that tournament, it's a little bit as well tough. Yeah, but I think I'm playing well. I'm coming with a lot of matches. Maybe Madrid wasn't the best tournament for me, but I think Simona played amazing that day. She played like her best tennis of her career. Credit is to her. I have to accept that. After that, I needed to rest a few days because it was tough and I had bad days, to be honest, there. Then I came back at court. Since then I'm feeling very well and I work very hard. Q. I'm writing about tennis balls. I'm curious, what's the most difficult thing about playing with different balls each week, each tournament? SPEAKER: You went to the perfect player to ask this (smiling). It's something we're talking about between a lot of players, to be honest. A lot of the top-five players are not happy about that because - I'm going to talk about me. I'm not happy about that, that every tournament or almost every tournament we're having this change of balls. I think it's tough. I don't know. I can read and I can hear sometimes that they're complaining about WTA that anyone can win. But if they change the conditions every time, it's normal, and anyone can win. Yeah, it's something we're talking already with WTA and trying to find the solution on that because I think the best way is to have more control on that, try to play as much tournaments as possible with the same conditions. Q. What specifically is tough about it? SPEAKER: About the balls? Q. Yes. SPEAKER: I mean, of course, every tournament there are different conditions. You're traveling to a different country. Some tournaments are with altitude, some with sea level. It's already different. But if you do it changing the balls, it's tough for us. Yeah, you have to keep changing your game and adapting yourself on the conditions. So I think the best way is to find a solution on that and maybe not changing. I remember in the same swing changing the ball. At least if we can continue in every swing having the same type of balls, that would be better for us and even for the fans and for the show. Q. Back to this being your Rome debut as the No. 2 seed. Is it reminiscent of what Emma Raducanu is doing? You said it was surreal. Can you expand on that? What is your mindset? SPEAKER: I don't know if you ask me -- I didn't understand a lot the question, to be honest. But if you ask me about Emma, what she's dealing through, her expectations? I mean, it's very tough. It's like the same I'm going to talk about Alcaraz. They're teenagers and they just did amazing things on tennis. You know that so much pressure, so much expectation on them. They're too young to learn how to deal with all that. I think they need time. Not only I'm going to talk about her, it's same in my case. We need time to process all these crazy things that happens. Sometimes when it happens like that fast, you need the process. Yeah, I think the most important is that they stay calm, they stay with their team, they work hard, and don't think about what they're talking about and don't listen too much because it's painful. Q. You've spoken about being very negative on court earlier in your career. You said you didn't always have the fight. What was the process like to get rid of the negativity and discover the fight? Was it one moment or a long process? SPEAKER: It was a process. I was super negative on myself. I remember it was tough for me. I was getting frustrated very fast because I really wanted to win so badly, so my mental game was weak in that moment. So, yeah, it was a process, me getting older, mature. One day I sat down and I was watching myself, and I didn't like what I was seeing. I decided that no matter what, I was going to try to fight every point, even if I feel well or bad on court. Yeah, it's one of the things that I think I changed the most last year, what gave me a lot of matches last year, that big change. I think this year I'm doing quite the same. Of course, if I have these kind of matches like you play against Simona, that she played amazing, had a lot of these matches this year that the opponent played so good, I just have to go home and work harder. Q. One of your friends, Sara Sorribes Tormo, had a great tournament in Madrid. You played against her in Indian Wells. Watching her, it seems like it would be miserable to play against her with how she plays, especially on clay. Can you describe what it's like facing her? SPEAKER: Yeah, I mean, Sara, she's very, very tough. She plays different. She plays different as most players. I think she has a different game. When she has different game, you have to adapt yourself. You cannot play the same game as you play against another one because the ball doesn't come the same way. Yeah, I think maybe that's the thing what happens to these kind of hitters, they want to play their game no matter what. Against Sara doesn't work like that because she loves it. Of course, I know her very much. When I play against her, I have to adapt myself because it's a different game as I normally play against. She did very well there. After I finish my match in Indian Wells, the first thing I said in press conference, if she plays like this match, she can be top 20, top 30 a lot of years because she has physically, she has mental game, she has attitude, she has the fight, and she has a different game. This game gives you a lot of matches. Yeah, I'm happy for her and for sure we'll see her in this kind of rankings a lot of years. Q. You talked about how your game has changed on court. Has your success changed you at all? Your circumstances are completely different to, say, 18 months ago. SPEAKER: I didn't understand, sorry. Q. Has your success changed you as a person at all off the court? SPEAKER: No, I'm the same, I think so. I will have to ask this to my friends or to my family. But I think I'm the same or even more humble because one day you're on the top and next day you can be outside the top hundred. You never know. I think the key to stay where I am or to stay as much better ranking as I can is to stay humble and to work very hard. I think if I play very good on this sport, I'm not better than anyone, you know. I didn't save a life. I'm not a super hero. I'm just playing good on my job. I'm doing my job well, you know? I don't have to change for that.\n"
     ]
    },
    {
     "name": "stderr",
     "output_type": "stream",
     "text": [
      "Processing interviews:   4%|▎         | 482/13698 [04:26<5:46:45,  1.57s/it]"
     ]
    },
    {
     "name": "stdout",
     "output_type": "stream",
     "text": [
      "Exception!!!  ROLAND GARROS May 20, 2022 Paula Badosa Paris, France Press Conference THE MODERATOR: Paula, welcome back to Paris. Can you tell us a little bit about how it is to be back here. SPEAKER: Thank you. Excited to be again here in Paris. As I always say, it's a very special tournament, I have very nice memories from here. I'm really looking forward to start Monday or Tuesday. THE MODERATOR: Questions in English. Q. (Question off microphone.) You entered this year as a genuine title contender. What has changed for you in the past 12 months since that run? SPEAKER: Yeah, I think here was my first Grand Slam as seeded, and I remember I was super excited about that. So, yeah, you can imagine a lot of things have changed the last year. A lot of new things, experience, challenges. Yeah, I'm in another position right now, and trying to learn about that and trying to enjoy as well where I am. Q. At the Australian Open, you kind of came into that tournament playing well, but gassed a little bit from Sydney. Here, how would you rate your preparation coming into this event? Are you feeling as good as you could possibly feel for this slam? SPEAKER: Yeah, I remember there saying that I was tired, but I liked it because I was with a lot of matches on my back. Here it's completely different (smiling). So it's as well a challenge, and a new experience I will have to manage and handle. I mean, I feel well playing on clay. Maybe I didn't play as many matches I was expected, but still, I think the most important is to stay as calm as I can and to try to manage the nerves as best as I can and to be motivated and let's see how it goes. Q. Is it more difficult at the moment, the last few weeks, because you have high expectations, because you're one of the higher seeds? SPEAKER: Well, to be honest, I think a lot of things that came these past weeks -- of course expectations have been having from the beginning of the year, because I'm a top-10 player. So you always have that expectations. But I think it's a little bit of everything, too many matches, playing at home wasn't easy. Sometimes, as I said, too many things, too many matches, I was a little bit like collapsed, and I wasn't that fresh mentally. Of course having expectations and maybe not doing well in that tournament, you feel more pressure and you feel like of course the press and the people are like, What's happening? What's happening? Because you lose matches. So of course that doesn't help, either. So, yeah, it's a tough situation that I'm learning. I just want to, yeah, try to manage as much as I can these kind of things, because everything is very new, so sometimes I get a little bit scared, and I feel that's a little bit big for me. Sometimes I'm managing it well, so there is a lot of emotions on me right now, and different tournaments. So I'm trying, what I'm working on, is to try to feel free on court and try to raise my level. I think that when I feel free and I feel that calm, of course I will have nerves, but that calm, I play well, and I'm competitive. So that's what I want to find here and try to find here in French Open. Q. I read one of the things you learned is that you want to come off social media. Wondering, can you talk about some of the experiences you have had that led you to that decision? Also, how you think it will help you. SPEAKER: Yeah, because it was for that reason, because I was feeling so much pressure, I think I lost these past two weeks in maybe early rounds, but they were very tough players. So it could be an option that I lose against these kind of players. I felt that maybe press, especially in home, was very mean in that case, because what I'm trying to do is just my job well and try to raise -- I give my 100% every day. And of course I'm the first one that doesn't want to lose and I'm already mean on myself, so I don't need these kind of extra comments, because of course it doesn't help my confidence, either. I'm not a robot, you know. So these kind of things, I decide not to read anymore. So I'm sorry if someone is tagging me on Twitter or Instagram, because I'm not seeing it. But jokes aside. Yeah, I think it was the first step to protect myself. Q. I wanted to ask you, we have been seeing more and more fans at various tournaments after having that long period of very little fans or maybe no fans. I'm wondering, your thoughts on this tournament in particular and Roland Garros and how it might feel different this year with those restrictions that were in place no longer here. SPEAKER: I think that's helpful, and that's amazing to have again the fans, the atmosphere, the energy. I think the players, we already feel that, and I think it's very nice. Especially in my opinion in my case, I like to play with fans, and I like to feel that energy. Here, I came as a fan years ago when I was a little girl, so it's always been special. I always felt that love from them, and I think that fans help you perform. Like when tough moments, you feel like there is people supporting you, you feel like their words and their energy. I think it's very nice to have back on the fans and as well that means we are back to normal and slowly we are getting back there, but that's very good news. Q. Following up, how old were you the first time you were here as a fan? Do you remember what players you might have seen play matches? SPEAKER: Yeah, I was 10. I was just coming here almost to see Rafa, to be honest, because I'm a huge fan. He was my idol. But, yeah, I was seeing all the matches. But to be honest, I'm still a tennis fan, because I have been here a few days ago already, but I love to watch matches. I have been watching qually matches, because I really enjoy the sport. I really like to see new, different players and different levels. I really enjoy it. So, yeah. Q. This tournament has obviously been a very special one for you throughout your career, from juniors all the way through. You mentioned, you know, the struggles the last few weeks. Is there something special that kind of can reset things for you in Paris? And also, what is your relationship with the city? What do you do to kind of manage the rhythms of the tournament? SPEAKER: I hope something changes, to be honest (smiling). No, but, yeah, I felt different already. I don't know. I felt a little bit more calm already arriving in this tournament, so maybe it's my reset. My team is helping me on that, as well. I like the court, so that helps. About the city, I have been coming a lot to Paris. It's very close by my hometown, and with my family some weekends and everything, so I really like the city and I really enjoy it. During the tournaments, maybe I don't have that much time, but for a walk or for a disconnection, I like it, because it's a very beautiful city.\n"
     ]
    },
    {
     "name": "stderr",
     "output_type": "stream",
     "text": [
      "Processing interviews:   4%|▎         | 488/13698 [04:28<4:56:32,  1.35s/it]"
     ]
    },
    {
     "name": "stdout",
     "output_type": "stream",
     "text": [
      "COULDN'T DETERMINE  NATIONAL BANK OPEN August 8, 2022 Paula Badosa Toronto, Ontario, Canada Press Conference THE MODERATOR: Questions, please. Q. Paula, how are you feeling? SPEAKER: I'm feeling okay. I just arrived. I think I played a few matches in San Jose. I'm feeling okay, feeling well. My first time here as well. So ready to start and let's see how it goes. Q. Did you treat the kind of Wimbledon, not break, it wasn't a full break after Wimbledon, but did you have an opportunity to kind of hit pause, take time away from the court and reset for the next half of the season? SPEAKER: Yeah, I did it. I took like five, six days off and I tried to disconnect. I always say \"try\" because it's sometimes difficult. But, yeah, I went for a small holiday there and I tried to reset a little bit. I'm really happy to be here because I really enjoy to play in the U.S. I always think that I played really well here. I'm happy to be back on hard courts as well. So, yeah, I'm happy to be here. Q. I wanted to ask, after Roland Garros you said it's kind of hard playing as the favorite, something you need to get used to. Since then is it easier now or is it still a challenge? SPEAKER: No, (laughing) it's not easier. I think, of course in the position I am today and as I always hear and I said sometimes, that pressure is a privilege. I know that and I think I'm very lucky to be in the position that I am today. But still of course it's stressful and it's tough to play as a favorite all the time. Because you feel like that obligation like to win and to not upset the people. It's tough. In my case I know it's like maybe the first year, because last year I was playing maybe more loose and everything was coming very new for me and I was playing the favorite, so it was a little bit easier for me. But this year's totally different. So of course sometimes I struggle more than other tournaments. But still I think I'm doing a pretty good year after all. I'm trying to manage all these new things, all this pressure, as well to be more known in the world and in Spain as well. It's a lot of new changes in my life that I think I'm trying to deal with as good as I can. And I think that for the moment it's going pretty well let me keep it like that. (Knocking on wood.) Q. On that point, you're No. 5 in the Race, it's not, 12 months ago you probably would have been very excited to be in the position that you are just in your season. So how hard is it to remember that and to keep perspective on that? SPEAKER: Yeah, it's very hard and I think that's where my team makes an amazing work. They're like, Don't forget, you're No. 5 and you're dealing with all these new things, all this pressure and you're still in the top level. So they're helping me with that balance. Because sometimes you forget about it and you just like forget where you come from and you just want to win, win, win and it's impossible to do that. So I try to find that balance and sometimes I feel that as well. And it's normal that fans and people expect a lot and they expect that you have to do every week like Indian Wells. And that doesn't exist. So, yeah, I'm trying to deal with all these kind of things. I think the main part there is that my team tries to protect me a lot and to make me like stay in my own bubble and just work hard. I think if you work hard and calm I think things will come. Q. You mentioned it's the first time coming to Toronto. Do you have any bucket list things you want to do, places to go, things to see? SPEAKER: Yes, of course. Unfortunately I arrived yesterday. At 2 p.m. I just reached at the hotel. So you can imagine that I'm a little bit tired today. But I hope I can be here a lot of days and I can visit a city that people said that is amazing. And it's my first time here, so I really am trying this year like to change that kind of things because I was very used to go from site to the hotel and not seeing anything else. Yeah, this year I'm changing things. I try to visit and to see different cultures and I think as well as different part and it's a good part as well for disconnecting. Q. You're part of a group of a lot of young players on the women's tour that are having success. What's it like, each and every week it seems like there's a different young newcomer that's pushing each other. What's it like to have that competition amongst each other? SPEAKER: I love it. I think that's perfect. I'm quite the tennis fan, even though I'm tennis player. I love to watch matches and I love to see the new young players, the new young stars that are coming up. I really follow the tennis because I really enjoy it. I like it. I like to have this competition. I like to have all these amazing players. Iga, now Ons is doing an amazing year, all the top-10 players. Because I think they push me to be better and they challenge me every time I play against them. Next day I'm like, Okay, I have to work on this. So I think they make me a better player and I'm happy for that. Q. You said you're a fan, do you feel that you also learn at the same time? SPEAKER: Yeah, of course. Every player has a different game and every player has like their own special thing that they do very well. So of course I want to try to do everything well, so of course I try to see how, I don't know, one player serves or how they return or how they play. I try to adapt myself a little bit as well. Because I think tennis, it's constantly an evolution. So I'm trying to every time, every day being even one percent better tennis player, for me, I try to do that. Q. I wanted to get your sense as to what your takeaways were from last week in San Jose. A heart-fought first round against Mandlik and then beating Coco and losing to Dash who won the title. So positives, negatives, was it frustrating, what was your take from it? SPEAKER: I think the balance was positive. I think I won two pretty good matches. Even the first one I wasn't expecting that big, big level and high level from her. I think she played unbelievable and very good tennis, because I didn't play bad at all, I felt pretty good. With Coco I played very well as well. So I played very good two matches. Then with Dash is totally different. It's tough to adapt a little bit from one day to another playing different players. And I think in her game she's now feeling everything. You know when you're like in that state of flow, that everything goes on your way, I think she's like that. She's a hard worker so she totally deserves it. I didn't think I didn't play my best that day, but still things happen. So, yeah, I think the resume of everything is that I played two pretty good matches, I'm feeling well and I'm really motivated to play here and the weeks that are coming now until US Open. So, yeah, I'm feeling okay.\n",
      "ResourceExhausted error, retrying in 1 minute...\n"
     ]
    },
    {
     "name": "stderr",
     "output_type": "stream",
     "text": [
      "Processing interviews:   4%|▍         | 517/13698 [05:30<6:32:48,  1.79s/it]"
     ]
    },
    {
     "name": "stdout",
     "output_type": "stream",
     "text": [
      "COULDN'T DETERMINE  AUSTRALIAN OPEN January 13, 2007 Marcos Baghdatis MELBOURNE, VICTORIA THE MODERATOR: First question for Marcos, please. Q. You were a popular finalist last year. Will there be added pressure on you this year? Will we see a difference in your game at all? Any marked improvement? SPEAKER: Yeah, improve myself a lot physically. I feel tougher, more experienced now. I'm playing good. I'm ready. Guess I'll just go on the court, fight for every match, try to do my best. Q. Bit of a scare in Sydney the other day. How is the injury? SPEAKER: Fine, fine. Very good. Q. Did you think you were in trouble there or did you know you just tweaked it? SPEAKER: I was scared a bit in the beginning. Then seeing myself getting through, the pain was slowly, slowly disappearing, I felt better. Q. Have you had treatment on it since? SPEAKER: Yeah, I had treatment after the match against Carlos, coming here. It's much better now. Nothing to worry. Q. Do you feel you're a better player than you were 12 months ago? SPEAKER: Yeah. Like I said before, I'm much fitter, physically better, more experienced. I'm just playing good tennis, so... Q. When you came through the gates here for the first time, what did it feel like 12 months on? SPEAKER: I don't understand the question. Sorry. Q. When you came back here for the first time a few days ago, what did it feel like? SPEAKER: I was speaking with my coach on the way from the airport. It was a bit weird, like getting close to the hotel. Just was a bit weird sensation. But, I mean, it's great to be back. I'm really excited to go out there, play tennis. I'm just really excited. Q. Did the memories come back from last year? SPEAKER: I watched my final yesterday against Roger, last year's final (smiling). Some of them came back, yeah. Q. Was it in the hotel? SPEAKER: In the hotel, yeah. Q. What do you take out of that? Obviously a great run, but you lost the final. SPEAKER: It was a great run, that's for sure. It was a good experience. Was a bit disappointed then that I lost. But, I mean, it's 12 months ago. I mean, life continues. Q. What impact did making the final have on your life, on and off the court? SPEAKER: It changed a lot. More famous. You go on the court, everybody wants to beat you. It's tougher now. That's for sure. They know more your game. It's a bit tougher. I'm working on that slowly, slowly. I'm building up on my rhythm. I'm working hard. I'm trying to have fun at the same time, not to overdo it. I'm enjoying myself. I think that's most important thing. Q. What about back at home? SPEAKER: Yeah, back at home, it was pretty crazy after the Open. But it calmed down after. Slowly, slowly people got the habits. It was much better then. Q. A lot of talk about Lleyton Hewitt. Do you still feel he's a danger in this tournament despite his injuries here? SPEAKER: Of course, he is. He's a good player. I played him in Wimbledon, in the quarters. He's playing very good. He's a very fit guy. He's one of the most competitive players in the circuit. He's really tough. He's playing at home. His dream is to win this tournament. I mean, playing Hewitt here is a very tough round. Q. What about the heat? 39 degrees, 40 degrees forecast for Monday and Tuesday. How do you handle that? Do you do anything different? SPEAKER: No. I do the same things I did last year: practice, work harder and harder. Like I said before, I feel ready for any match, any round. Just to go out there and fight and try to find a solution to win. \n"
     ]
    },
    {
     "name": "stderr",
     "output_type": "stream",
     "text": [
      "Processing interviews:   5%|▍         | 642/13698 [05:31<1:30:59,  2.39it/s]"
     ]
    },
    {
     "name": "stdout",
     "output_type": "stream",
     "text": [
      "COULDN'T DETERMINE  AEGON INTERNATIONAL June 18, 2012 Marion Bartoli EASTBOURNE, ENGLAND THE MODERATOR:Â Questions, please. Q.Â Always nice to come back to a place where you're the champion? SPEAKER:Â Yeah, well, first of all, it's nice to be back on grass for me this year.Â I always played some great matches here in Eastbourne since a lot of years now, so hopefully I will be able to do it again this year, but I'm really happy to be back on my best surface, for sure. Q.Â Would you be hoping for some rain so you can play twice in the day again? SPEAKER:Â (Laughter.)Â Well, I would say if I had to do it to win tournament, it's fine.Â But, you know, here in England it's hard to predict anything with the weather.Â Hopefully we can keep it up the same, one match a day, but if I have to play two, then I will do it. Q.Â Why do you think the surface suits your game as well as it obviously does? SPEAKER:Â Well, I think a grass court needs to have a lot of qualities regarding your timing, and I think that's probably my best quality.Â You have to play flat obviously and really play inside the baseline or close to the baseline. That's really my game.Â I play very close from the baseline, and I play very flat.Â Â So that's obviously two qualities you need to have if you want to play well on grass. Having a very short back swing helps me as well to achieve it.Â But I really feel every year when I'm coming back on grass it's a new start, and especially the first two matches or the first matches is always a bit hard, but if I'm able to do well and to win it, then I'm feeling my game is really improving a lot by matches played, which is not the case on clay for me. I can't play a lot of matches on clay, and my game cannot improve a lot.Â So I love grass for that reason but I know the first matches is always tough. Q.Â You have been here so many times before.Â Is there anyplace you'd like to keep going back to, revisiting? SPEAKER:Â The practice court.Â You know, again, it's more because of the surface.Â I feel extremely comfortable here in Eastbourne.Â Of course I love the city.Â It's a very nice and quiet city, but I do believe that the more time I spend on grass, the better I get. So every time arriving here, usually it's from clay, and I really need some hours to get my game ready to get going before Wimbledon.Â Obviously it's a very short window for matches to get ready for Wimbledon, so I need to be sharp on my practice and to have the best preparation as possible and to give myself the best chances as possible to perform well before Wimbledon. So it's more obviously spending time on the practice courts and play a lot of balls and get ready and then see how it goes in matches.Â Â But as the tournament goes on, I get more time to do something outside, but before tournament, not so much. Q.Â Do you think it matters, particularly on grass because it is such a time‑specific surface, whether you play a lot of matches before Wimbledon, or can you get away with perhaps just playing one or two and it not matter that much? SPEAKER:Â I don't think there is a rule.Â It really depends on the player.Â I remember when Zvonareva made the final of Wimbledon, she lost first round here.Â So she had barely one match here before going into the final. I think grass, it's a specific surface and there is not a lot of players who feel comfortable on that surface, so maybe if you do badly in Eastbourne you can still win Wimbledon if you have one or two matches in the first rounds and get some wins and then get confidence. Grass is very, you know, it's a very specific surface.Â So it's very hard to predict anything.Â Obviously last year, Petra won Wimbledon and then made the quarterfinals, so of course if you're able to do well here you have a chance to do well in Wimbledon.Â There is no real rule, but usually if I'm playing well here I can translate that to Wimbledon. Q.Â The women's game is so wide open now.Â You must see you have a pretty good chance going all the way. SPEAKER:Â Well, I'm not thinking that way, but yes, I have more chance to win Wimbledon than to win Roland Garros, that's for sure.Â (Laughter.) On the other hand you have Serena and Venus were so good on grass, and even though Serena is now top 5 but Venus is outside 50, you can draw her in the first round.Â That's really hard to play in Wimbledon. So there is those two players who are set apart on grass courts are very, very difficult to beat.Â That makes it all very hard. Q.Â Can you go and be really excited because you think you really can have a chance of winning it? SPEAKER:Â I'm always very excited when I go to Wimbledon.Â I have so many memories that every time I'm going back there I have a bright smile on my face because I just have those goosebumps coming back to my body, remembering all those great pictures I have in my mind from this year. So from '08 to now I always have great memories going back to Wimbledon. Q.Â Is there anything you're particularly working on in your game that you really want to improve? SPEAKER:Â Well, I do believe when I'm playing well I'm really there.Â I mean, on the hard court I have been able to have some great results week in and week out, not only in one tournament, really back it up every week. So for me it's more consistency, and being able to repeat that kind of level every day.Â But I think when I'm on and I have my game on I really don't have to improve other things. Q.Â Can I ask what your feelings were on what happened yesterday at Queen's?Â Were you shocked to see those things? SPEAKER:Â Yeah, well, it's always ‑‑you know, as a tennis player you go through a lot of things mentally during the match.Â Sometimes you have some ups and downs and you're leading and you think the match is yours and then you're losing, and it's hard sometimes to handle all those bad comments that go through your mind and your negative thoughts. But, you know, it's not a way to express them.Â That's for sure. \n"
     ]
    },
    {
     "name": "stderr",
     "output_type": "stream",
     "text": [
      "Processing interviews:   5%|▍         | 647/13698 [05:33<1:29:42,  2.42it/s]"
     ]
    },
    {
     "name": "stdout",
     "output_type": "stream",
     "text": [
      "COULDN'T DETERMINE  AUSTRALIAN OPEN January 13, 2013 Ashleigh Barty MELBOURNE, VICTORIA THE MODERATOR:Â Questions, please. Q.Â How much more ready do you feel this year than last? SPEAKER:Â Yeah, I'm feeling good going into the match.Â It's a tough match this year against Dominika, but I'm looking forward to it. Q.Â What did you take out of Hopman that you can utilize here? SPEAKER:Â Hopman Cup was an unbelievable week for me.Â I think I'm playing on Hisense Arena, quite a similar stadium, which will be good.Â I'm just looking forward to getting out there and giving it a rip. Q.Â What do you think has changed in your game, improved the most? SPEAKER:Â I think everything as a whole.Â My whole game has developed to a new level.Â Jason has worked really well with me to work on that.Â I'm feeling good, can't wait to get out there. Q.Â What do you know about Dominika? SPEAKER:Â I know she hits it hard.Â We played her in doubles last year here, so...Â I've had the chance to hit the ball against her. I haven't watched many of her recent matches, but I'm sure tonight I'll have a quick look and see what I'm going to do. Q.Â Does Jason scout around to your opponents a bit, give you advice? SPEAKER:Â Yeah, if we don't know the player, then we both do that.Â We both know her pretty well.Â We know what we want to do out there.Â It's just about me going out there and trying to execute the game plan. Q.Â Are you taller than her? SPEAKER:Â I think I may be (smiling).Â Actually one of my mates said to me today, Sally said to me, You're taller than her.Â Yeah, I'm hopefully still growing a bit more.Â Hopefully there's a few inches left in me. Q.Â Melbourne Park has new facilities for players.Â What do you think about that for the players' future? SPEAKER:Â The facility is amazing.Â We've been over there today.Â It's such a great facility.Â It's got everything we need over there.Â I'm sure when I'm down here training, we'll be using that a lot.Â The gym is good.Â The recovery is good.Â The courts are fantastic. Tennis Australia has done a great job developing that.Â Yeah, we're really lucky to have such a good complex. Q.Â I know you don't go into a match thinking you're going to win, but what shot do you give yourself, given how far you've come in the last 12 months? SPEAKER:Â I don't really think too much about that.Â I just go out there and give it a go.Â If I go out there and think I can win the match, which I think I can, if I play well and I think I can do that. I'll go out there and give it my best shot and see what happens. Q.Â You've done a lot for someone that's only 16.Â What achievement are you the most proud of? SPEAKER:Â Well, I think I was very lucky at Hopman Cup to represent Australia.Â I think that's one of my most proudest moments. Even in the juniors when you're representing your country, it's something really special.Â To be able to do that the last couple weeks, the way I played out there, it was really fun.Â I haven't enjoyed tennis that much for a long time.Â It was just so good to get out there, play in front of the crowd. With Bernie as well, he did a great job.Â He's playing some great tennis.Â I'm sure he's going to be tough to beat this week. Q.Â Will you two played mixed here? SPEAKER:Â No, we're not playing mixed together here.Â He's focusing on his singles.Â I know he's going to have a good tournament.Â Hopefully he can go deep in the first week, and maybe into the second. Q.Â Seeing him win a title at quite a young age, what does that do for the other youngsters in Australian tennis? SPEAKER:Â He's been playing great all week in Sydney.Â I this think that really transitioned well on from Hopman.Â He played really well there. I think the other boys, like Benny Mitchell and Ducks can really look at him, see what he's achieving.Â It just comes down to hard work really.Â He had a good off‑season, so I'm sure he's going to have a good year ahead. Q.Â Does the crowd support in Australia inspire you, make you nervous?Â How do you see it? SPEAKER:Â It's great.Â It really is good to have the crowd support.Â It adds such a buzz to the air.Â Gets your adrenaline pumping so much. Hopefully it's a pretty full stadium in Hisense tomorrow.Â Yeah, I can go out there and kind of use my crowd to my advantage a bit. Q.Â You suck up the energy more than anything? SPEAKER:Â Definitely.Â You can't not.Â I mean, there's so much energy out there.Â The crowd gets so into it.Â It's an awesome feeling to be out there.Â Especially when you first walk out, yeah, it's something you can't really explain. Q.Â Who will be here in your entourage?Â Parents, siblings, school mates? SPEAKER:Â A lot of family, a lot of family.Â I think there's about 15 all together.Â I haven't seen a lot of them yet.Â But, yeah, I'm sure I'll catch up with them after the match tomorrow. \n",
      "filled:  1 not_filled:  19\n",
      "ResourceExhausted error, retrying in 1 minute...\n"
     ]
    },
    {
     "name": "stderr",
     "output_type": "stream",
     "text": [
      "Processing interviews:   5%|▌         | 727/13698 [06:38<1:41:33,  2.13it/s]"
     ]
    },
    {
     "name": "stdout",
     "output_type": "stream",
     "text": [
      "COULDN'T DETERMINE  DUBAI DUTY FREE TENNIS CHAMPIONSHIPS February 25, 2018 Roberto Bautista Agut Dubai, United Arab Emirates THE MODERATOR: Questions, please. Q. How do you feel heading into this tournament? How do you feel about your form heading into this tournament? SPEAKER: Well, I start the season playing very well. I didn't play well last two weeks. Well, I came early to get used to the conditions. Here the ball flies a bit more. I had already three days of practice, and ready to play tomorrow. Q. This tournament usually has a lot of top-10 players. This year perhaps it's a little bit different. Do you think it makes it more open, gives you a better shot? SPEAKER: Of course. I think the circuit now, it's more equal. We have a lot of players playing really good level of tennis. Everything is more equal. As you said, I think this tournament is going to be more open because there is not many top-10 players. I think everybody can play well here. Q. How does that change your approach to this tournament, if it does at all? SPEAKER: Of course, no, it does. It's a really good tournament, really special tournament for me in my schedule. I always come to play here in Dubai. I think it's a great opportunity to have a great week here. Q. You didn't play for Spain in the Davis Cup against Britain. Are you committed to Davis Cup this year? SPEAKER: Yes, I will be ready to play the next tie if the captain calls me to play. Q. You didn't play because you were injured? ROBERTO BAUTISTA AGUS: Yes. Q. What do you expect against Germany then? SPEAKER: They have a really good team. Zverev is one of the best players now in the world. Well, it's a great opportunity for us because we are going to play on clay, we're going to play at home. I think it's better for us to play the tie on clay and with our preferred conditions. Q. Have you played on these courts? Do you find it slower than in the previous years? Do you think generally tennis courts are becoming slower? SPEAKER: I think here the conditions in Dubai are pretty fast. As I said, it makes the ball fly more. I always felt that the conditions here in Dubai are pretty fast. Q. Otherwise do you think the courts around the world are becoming just a little bit slower? SPEAKER: Yeah, I think slower than maybe 10, 15 years ago. I think yes. Everything is more playable from baseline now than before. Q. Do you think that would help the older players stay longer in tennis, because the courts are becoming slower? SPEAKER: No, I don't think that helps, no? I think every player now is more professional. Every player takes more care of his body, eats better, sleeps better. I think everyone is more professional now. Q. How does the Auckland win give you confidence coming into this match? SPEAKER: I played very well in Auckland, no? I think I had a really good week. It was very special for me to win the title again there, to have a really good win in the final against del Potro. I think it was a good start of the year for me. Q. Your best performance here is a quarterfinal. Do you feel confident of going beyond that with this field? SPEAKER: Well, I'm going to try to play better. But here the draw is tough. Everyone can play good here. The flying conditions makes the closest matches. I think it's going to be crucial to play well on the courts in the important moments. Q. What are your highlights from the times you've played this tournament before? You had a couple of tough draws, haven't you? SPEAKER: Yeah, I played many years against Novak. Well, in Dubai, it was really tough draw all years. Well, it's a great opportunity now. I'm seeded. I hope to have a great week here.\n",
      "ResourceExhausted error, retrying in 1 minute...\n"
     ]
    },
    {
     "name": "stderr",
     "output_type": "stream",
     "text": [
      "Processing interviews:   5%|▌         | 753/13698 [07:41<3:28:56,  1.03it/s]"
     ]
    },
    {
     "name": "stdout",
     "output_type": "stream",
     "text": [
      "Exception!!!  DUBAI DUTY FREE TENNIS CHAMPIONSHIPS February 23, 2020 Roberto Bautista Agut Dubai, United Arab Emirates THE MODERATOR: Questions, please. Q. How do you feel about your game heading into this tournament? SPEAKER: I feel well, no? I think it was a great month in Australia for me. I've been working at home well. I did all my stuff, all the physical work well. I think I'm ready to play a good week in Dubai. Q. You played so many matches in ATP Cup. Was that difficult for you to be at your best in Australia? Did you feel it in your body? SPEAKER: Of course I feel it, no? But sometimes when you are winning a lot of matches you worry because you are a little bit tired. Sometimes you worry when you are not winning matches that you need some rhythm on the court. I think it was also a good week in Australia. I lost against Cilic in the third round in the fifth set playing a great match. I think it was a great two tournaments for the start of the season. Q. How much of this do you ascribe to what happened in Wimbledon last your, from that point? SPEAKER: What? Q. How much do you give the success at Wimbledon... SPEAKER: Wimbledon was maybe the best tournament I played in my life. Well, I think it was a great experience. I think I learn a lot from it. I hope I can do the same results in the next years. Q. You won here two, three years ago. What do you expect from this tournament? SPEAKER: I like Dubai. I like the conditions here. I think it's great for my game, great for my tennis. It's one of my favorite tournaments in the year. I feel well, no? Sometimes the results are a little bit particular. Sometimes you not play your best and you win matches. Sometimes you play well and you lose tight matches, no? I think I'm physically well. I feel in a good shape and ready to play a great tournament. Q. You have a tough one from the start against Struff. How do you see that match? SPEAKER: He's a great player. He can play very aggressive. He can play very fast. We'll see, no? It's going to be the first match here in the desert, which always makes it more difficult. Well, I will have to be very concentrate, very prepare. I will try to be very solid and try to beat him. Q. Your marriage last year, how has life changed for you? Is it any different? SPEAKER: It's not different, no (smiling)? I married with a great girl. She's helping me a lot. She did also help a lot in the past. We are good together. We try to help us in our lives. Q. You're seen as a player with special dedication towards the game, which was exhibited in a great way at the end of the year with Davis Cup, the sad events which happened. You were applauded for this. Do you see these qualities as perhaps lacking among the younger players? How do you suggest they should do in order to develop the love for the game as much as perhaps you and a couple other players have? SPEAKER: What I can say is what I passed was very difficult for me. I won't say anything in particular to one other person or another player having the same situation, no? I cannot say anything. I think anyone has his own decision. Everyone has to think on what he's doing. In my case the tennis help me a lot to escape everything at home, trying to have the mind on my job. Also travel some weeks was good for me and for my mind. As I worked a lot during all my life to be where I am, I didn't want to stop the development, to stop my tennis career. I think that's why I kept fighting hard. I wanted to be where I am now. Q. ATP Cup and Davis Cup, you played both. What can you say? What you prefer? To keep Davis Cup or the new system with ATP Cup is better? SPEAKER: What I experience both weeks was very nice. In particular for me to be playing during all my life as a single sport, single tournament, I think it's great to have some team matches, some team competitions. I think it's good for the involve of the fans, of the tennis fans. I think it's great for the tennis. It's also great for all of us. Q. Yesterday Simona Halep won here. You know what I mean. You are a past champion here also. What do you think your chances are to win Dubai again? SPEAKER: Well, the tournament didn't start yet. I will talk about that if I feel I'm in a good shape and I've already won some matches. As we are in the beginning, it's still very soon to talk about that. I still have a lot of good opponents to beat. I will have to be very concentrate since the first match. Q. Back to Davis Cup for a second. I saw how the team rallied around you. What kind of bond do you feel you have made with these players, even though you've known them for years? Talk about that, how you feel. SPEAKER: It was very special, no? The feeling that week was amazing. I really enjoyed playing team competition for Spain. Everyone help me a lot. Everyone support me since the first day. Everyone support me, everyone was behind me. At the Davis Cup it was the same situation. Q. You like horses. Have you been to any stables here? SPEAKER: I've been. Q. What was that experience like? SPEAKER: I've been here in (indiscernible) with the polo horses. I think it was two years ago. I enjoy.\n"
     ]
    },
    {
     "name": "stderr",
     "output_type": "stream",
     "text": [
      "Processing interviews:   6%|▌         | 782/13698 [07:42<2:30:06,  1.43it/s]"
     ]
    },
    {
     "name": "stdout",
     "output_type": "stream",
     "text": [
      "Exception!!!  ATP TOUR WORLD CHAMPIONSHIP November 20, 1994 Boris Becker FRANKFURT, GERMANY Q. Boris, do you remember another time when you made five doublefaults in the same game, and how do you explain what happened in that game? SPEAKER: Well, I do remember. I played many, many matches in my career and I had matches when I had many doublefaults. Unfortunately, I did that in the second set while I was just playing really well. I can't really explain; probably a combination of things. I had extremely good first set. I had a good last couple of days and my level of concentration just left me for two, three minutes. I really -- I was trying hard not even to risk the first serve, but for five minutes I lost my touch completely and, you know, since he is a true professional, he took the opportunity and he broke me then. But the match wasn't lost there. The match was lost in the third set. Q. Boris, was there a little panic going through your head at that time. Five minutes, you can't get your serve in, did you start to panic? SPEAKER: No, I just -- for some reason I lost my touch, you know, in that service game. Everything until then was going very smooth. Throughout the whole match I served great. I risked a lot on my second serves, so I expect some doublefaults, but in that particular game I just hit five or six in one game and it was a hard apple to swallow down. Q. Any regrets about beating Edberg in that third set now? SPEAKER: To tell you the truth, no. I am a professional. I go out there to win; doesn't matter who I play. And I told you already then, that I didn't go out there just to win one set, but to win the whole match. And Pete, you know, obviously came after the match and thanked me again for beating Edberg on Friday, but, you know, he is -- what can I tell you? I won four matches. Was probably too much to ask to beat the No. 1 player twice in a week. It is something very uncommon and unusual in a tournament, but, you know, I produced great tennis all week long and even today I played great. You know, I had set point in the third set and he comes up with an ace and I had my chances today to win. Q. Is he on a different level, do you think, Boris, when he is playing like he was towards the end of the set -- SPEAKER: I would say I caught up with him over the past couple of months and I think Andre did as well. He was playing on a different level for the first six months of the year and then through him being injured, wasn't able to play in a couple of months and we got a little bit better and we caught up with him. Obviously, in the match today, obviously, you are in the final and you are two sets to one up and you are up a break obviously that all lifts your game, and I think anybody who is in that position just is flying at that moment, and Pete was flying for the last 20 minutes of the match. But all and all, he is not a level better anymore than me or than two, three other players. Q. Really big comeback, Boris, this year. I heard you tell the guy from SAT1. Could you expand a little bit more on what fatherhood has meant to you and how it affected your game? SPEAKER: It was really late of last year where I couldn't produce any good tennis results anymore and I said it all the time that I cannot concentrate on the tennis anymore when my wife is pregnant. Once he was out, you know, everything was nice and healthy, everything was well, I could again refocus on my profession. I got together with Nick Bollettieri and we started to build up and each month we had progress. I improved my playing and I was very pleased the way I played throughout the year. It wasn't just one particular week where I played great. But I played all year long on a very good level and I -- especially at the end, I played my best tennis of the year and it is all in my opinion, due to finding a base now; having a home where even after a tournament, you know, after a tough loss like today, I can go home and just other things seem to be more important, you know, it doesn't bring me down anymore as it used to and so that really helped myself to find a balance in life. Q. You say that you have had a consistent year, but if you look at your results, it is from Los Angeles and New Haven that it really -- the second half of the year really took off for you. Did anything happen around that time of the summer to make you feel \"I have got it now?\" SPEAKER: You kind of work every week and you hope to improve and then, you know, I won my second tournament of the year in Milan. I won that, and I was in the final of Rome and another couple of results, but I wasn't playing as good yet, and all of a sudden in Wimbledon, it started to change for me after reaching the semifinal again and all of a sudden I just, you know, reached another level which allowed me now to reach, what was it, five -- six finals and winning three tournaments and I was really playing excellent tennis the past couple of months. Q. Sampras says he has a goal to play better on clay and he is going to play two more tournaments the next year on clay and his goal is to win Roland Garros. Do you have a goal or not at this point? SPEAKER: Well, I am over that stage already -- Q. That is why -- SPEAKER: -- (cont'g) where he is right now. I said that three, four years ago that I am going to play more clay and that my main goal left is the French Open. That is over. But still, I don't see as one particular goal. I want to improve as a tennis player again for next year. I want to play well on all different courts, in all -- especially in the Grand Slams, I would like to do better than I have been this year. I am going to play hopefully all four if I am not injured before, and so I really would like to start where I left right now, which is on my peak and so I cannot say one particular goal. I want to altogether improve as a tennis player and play the best players every week and just be able to win big matches. Q. How are you going to prepare for the Australian Open; are you going to Florida to practice? SPEAKER: No. Unfortunately the Australian Open starts very early in January and -- but I will go down there in time and play a couple of exhibitions; I have one right the week before, where Pete is also playing, but my year is not finished yet. It is sort -- I play a few more exhibitions. I play the Grand Slam Cup as the last big tournament of the year. So I don't really have a big, big break between now and the Australian Open, which is good for me. Q. Boris, are you playing Hopman Cup? SPEAKER: I am planning to. Q. Do you have a feeling for how many more years you have left in you at the top? SPEAKER: If somebody would have asked me at 17 if you would still be playing at 27, I would have said no. So it is really difficult to see so much ahead. At the beginning of the year I didn't know how good I am going to get at the end of this year and I -- everything is dependent obviously on how much you win and how much pleasure you still have and competition and in practice or how much tougher it gets to work everyday a couple of hours. So, but I said before, I want to reach 30 in my profession. I want to be playing, you know, at, say, three more years, but it depends really how good I can play. If I can be a factor in major championships, then I'd love to play until I am 40, so it really depends on what level I am going to continue playing. Q. Could you imagine your son would step in your foot steps with tennis or are you saying now already it is too hard? SPEAKER: Well, it is not going to be easy in the future, that is for sure. I actually would prefer him to play some basketball because I am a bigger basketball fan than tennis. And he has already pretty big feet, so I figure he is going to be tall son of a gun, you know. \n"
     ]
    },
    {
     "name": "stderr",
     "output_type": "stream",
     "text": [
      "Processing interviews:   6%|▌         | 789/13698 [07:42<2:17:26,  1.57it/s]"
     ]
    },
    {
     "name": "stdout",
     "output_type": "stream",
     "text": [
      "Exception!!!  VOLVO MONTE-CARLO OPEN April 26, 1995 Boris Becker MONTE CARLO, MONACO Q. Do you have the feeling that you played your best first round here because you were feeling very good on the court today compared with other years? SPEAKER: Unfortunately, I have a past in this tournament where I have been losing many times in the first round, but I had also one of my two best tournaments ever on clay. I don't know about the best ever, but it was a very good first round. Q. Any reason, Boris? You have been preparing particularly well or differently or you just went out there feeling good today? SPEAKER: I had time to prepare. Unfortunately, the weather wasn't that good the last four days, but it was good two weeks ago and most players haven't played and we were all ready here a couple of weeks ago and we had time to practice hard. I think that is why I was able to play with very good timing and that is the reason. \n",
      "ResourceExhausted error, retrying in 1 minute...\n"
     ]
    },
    {
     "name": "stderr",
     "output_type": "stream",
     "text": [
      "Processing interviews:   6%|▋         | 867/13698 [08:44<2:36:55,  1.36it/s]"
     ]
    },
    {
     "name": "stdout",
     "output_type": "stream",
     "text": [
      "Exception!!!  QATAR TOTAL OPEN February 21, 2016 Belinda Bencic Doha, Qatar THE MODERATOR: Questions for Belinda, please. Q. Congratulations on the win two weeks ago. How do you feel about getting into the top ten? SPEAKER: Well, of course I'm very pleased to be in the top ten. It's a dream come true for sure. I've worked very hard for this and I finally reach it and kind of relax me a little bit. I'm just enjoying to have this status to see myself as a No. 7 and, yeah. Q. So because of top ten, is your mindset or approach any different for this tournament, or how about preparation for tournament or mindset? SPEAKER: No, I'm just preparing the same as normal. If your No. 11 or No.7, doesn't change your tennis. Try to do everything the same. Try to win as much matches as possible and happy about I reached the top ten. Q. Could you talk about your first game, your first opponent in this tournament? SPEAKER: It's Kirsten Flipkins or Coco. They will play tomorrow and for sure I will watch this match. Little bit opposite style of players. We'll see who wins. I mean for me, doesn't matter I just try to focus on myself and have some more practice here and feel good for my first match. Q. Can you speak about Melanie Molitor influencing your game? SPEAKER: Yeah, she's been like the biggest influence of my game. She taught me everything that I can. She was very first coach and, yeah, technically she's brought me really to the highest level. I feel like if I do the things she tells me to do, I can really reach it far. I always feel good practicing with her. It's tough week, tough days, but when I go to the tournament, it's always very good. I play with confidence. Everything like her -- that she's really doesn't make compromises. She doesn't tell you your so great. She tells you the truth, and I think that's the best thing that can happen. If something is not right, she just tells you to your face. You have to change it. It's not like patting the shoulder all the time. Q. Could you talk to us about the courts and the conditions here. How do you find them? SPEAKER: Yeah, usually it's supposed to be windy here. Last year, as well. But this year somehow it's not that windy, so I hope it stays like this. Yeah, the courts are okay. The balls as well. I feel quite good here, normal conditions. I just hope to doesn't winds too much. Q. We have been always talking about new generations coming up and you're of course always the leader of top younger generations. But if you look on Grand Slams nowadays, some veteran like Angelique or Pennetta won slams. How do you see this kind of transition or new trend? Do you feel like it's your time to win the title? SPEAKER: Relax. I mean I just made the top ten. We'll see. I mean I don't feel the pressure now to have to win a Grand Slam. I have lots of time. As you said, it's the older players winning the Grand Slam. I just think it's the experience. They've been there a lot of times, also the physical game, and just consistency to win seven matches in a row to win the title. I think it's a big step to win a Grand Slam. Well done to Angelique in Australia. Yeah, maybe now it's changing a little bit, but I still think it's impossible to win the Grand Slam when you're 16 nowadays, or 17, 18. Yeah, we will see.\n"
     ]
    },
    {
     "name": "stderr",
     "output_type": "stream",
     "text": [
      "Processing interviews:   6%|▋         | 869/13698 [08:46<2:36:09,  1.37it/s]"
     ]
    },
    {
     "name": "stdout",
     "output_type": "stream",
     "text": [
      "COULDN'T DETERMINE  AEGON INTERNATIONAL June 20, 2016 Belinda Bencic Eastbourne, England THE MODERATOR: Questions, please. Q. How are you feeling after Birmingham? SPEAKER: Yeah, better. It was just very unfortunate I slipped there on -- I think they let us play on the wet grass, so that wasn't really good. I just slipped there, and obviously, you know, did something with my leg. I have been doing the physio treatment all day. Yesterday I was practicing, so I should be fine. I still tape it a lot, so it's a little bit hurting but it's okay. Q. You didn't trigger anything with your back? SPEAKER: No, my back is totally fine. It's not the back. That's positive. But everyone thought it's the back. Q. Have you had any time on the courts yet? SPEAKER: Yes, yesterday I practiced twice, an hour. But I was hoping for today but doesn't look good. Especially when they don't cover the courts, so we have no chance to practice. I guess it's the same for everyone, but still it's a little bit of a disadvantage. Q. How does feel to come back to Eastbourne? Obviously defending champion and good vibes. But at the same time, it's been a while since you have had a lot of match play. How do you feel to play this tournament? SPEAKER: Yeah, obviously good. I mean, you come back and you just have all these great memories. I mean, it's every time the same when you play a good tournament. I mean, we always go to the same restaurants, so it's a ritual. Yeah, I mean, it feels good. Obviously I haven't been in like, you know, in the match streak lately, but somewhere I have to start so I hope here. Q. Were you paying attention very much to what was going on on tour during the time you were away most of the clay season? SPEAKER: Yeah, I know everything, all the results. I mean, I had a lot of treatment and like doctor stuff and just doing fitness and stuff. But, I mean, Tennis TV. I was watching all the results, all the matches. I had a lot of time. Q. Do you feel pressure here defending the title? SPEAKER: No. I mean, why would I feel pressure? Of course it's points, but every time someone is defending points somewhere. So I guess it's just a normal situation. And I don't feel any pressure and no expectation because I haven't played a lot of matches lately. I'm just trying to, you know, get the matches in and just keep going. Yeah, just have fun and obviously I'm so glad to be back on the courts, so that's the most important. Q. Has the injury caused you to rethink any part of your game? Do you have to do things differently now? SPEAKER: No. I mean, everyone has injuries at some point of their career, so I'm not the first person to get an injury. Obviously also girls in my age, the other ones also had little something. Even in the juniors before. I mean, this was my first or second like serious injury, so I just take it as a part of the job. I mean, it's nothing special. Obviously I have to be careful and do a lot of prevention, as well, but I think it's just part of the job. It happens to everyone. Doesn't matter how much you pay attention or do that or do that, so, yeah. Q. What was the most surprising result from the clay from where you were sitting? You were watching at home? What was surprising to you? SPEAKER: Well, I think Kiki Bertens. She did amazing. She had such a streak. She won Nuremberg, right? Then Fed Cup and Roland Garros. I think she had an amazing clay court season. She's a very nice girl. I was very happy for her. Q. Have you managed to catch up with all of the Grey's Anatomy before you got back? SPEAKER: Yeah. (Laughter.) To be honest, I watched and in Birmingham they blocked me. I need VPN to watch it. You can only watch it on Netflix in U.S. I came to the idea, oh, I can do the VPN so I can continue watching. But now like it's always coming, VPN, it's like an unblocker, you cannot watch this so much. Now I have no life anymore. (Laughter.) Yeah. Q. Netflix has a new policy. SPEAKER: I know. It's so bad, right? I'm so mad. Q. You're playing doubles in the Olympics? SPEAKER: Yeah. I'm playing doubles now with Martina Hingis. Q. And mixed? SPEAKER: Mixed is just Martina and Roger is set. Stan, I mean, he didn't decide yet. Q. Are you looking forward to it? SPEAKER: Oh, yeah, of course. I mean, Olympics, I heard so many great things from other players that it's so different and so much exciting. Obviously I'm looking forward to it. Q. You said Stan didn't decide yet. So... SPEAKER: I don't know. No one discuss -- I mean, you kept asking if I play with Hingis, and now it's set. And now you ask because of mixed. (Laughter.) I don't know. It's also chance he will play with Timea. I don't know. Q. What's Timea's doubles like? SPEAKER: She's gonna maybe play with Xenia Knoll if they allow her to play, because she didn't have the three Fed Cup. But she was nominated, you know, so like it's not her fault that she didn't play Fed Cup. So maybe they will allow her to play.\n",
      "ResourceExhausted error, retrying in 1 minute...\n"
     ]
    },
    {
     "name": "stderr",
     "output_type": "stream",
     "text": [
      "Processing interviews:   6%|▋         | 869/13698 [09:05<2:36:09,  1.37it/s]"
     ]
    },
    {
     "name": "stdout",
     "output_type": "stream",
     "text": [
      "ResourceExhausted error, retrying in 1 minute...\n",
      "ResourceExhausted error, retrying in 1 minute...\n"
     ]
    },
    {
     "name": "stderr",
     "output_type": "stream",
     "text": [
      "Processing interviews:   7%|▋         | 926/13698 [11:50<2:43:20,  1.30it/s]"
     ]
    },
    {
     "name": "stdout",
     "output_type": "stream",
     "text": [
      "NOTHING WORKED!  COMPAQ GRAND SLAM CUP December 6, 1994 Alberto Berasategui MUNICH, GERMANY Q. Has it been a long year? SPEAKER: Well, it has been a long year for me. I played a lot of tournaments to make it to the Masters for Frankfurt and it has been a high year for me because I had to play a lot of tournaments, but in the other way I think it has been my best career year, so I am proud for it. Q. Pete Sampras said he thought that the court was rather too fast for comfort. He thought it might be better if it was a little slow. What do you think? SPEAKER: Well, for me it would be better if we were playing clay court, but I don't think that is possible, but I think it is much faster than the court in Frankfurt, and I am not used to playing on these kind of courts, and -- but anyway at the second set I got a little bit into the match and I could play better, but I think the court is a little bit too fast. Q. What are your goals for next year? SPEAKER: Well, I am going to try to maintain my ranking that I had got this year, but I am going to try to prove mostly on hard court and try it play more a little bit more tournaments on these kind of courts, and my biggest goal is to play at Roland Garros and if I don't win it this year I will try to win it some year. \n"
     ]
    },
    {
     "name": "stderr",
     "output_type": "stream",
     "text": [
      "\n"
     ]
    }
   ],
   "source": [
    "# filling the missing values in the \"won\" column with the help of Gemini\n",
    "from tqdm import tqdm\n",
    "filled = 0\n",
    "not_filled = 0\n",
    "last_print = filled + not_filled\n",
    "for i in tqdm(range(len(interview_data)), desc=\"Processing interviews\"):\n",
    "    if (filled + not_filled) % 10 == 0 and filled + not_filled != last_print: \n",
    "        print(\"filled: \", filled, \"not_filled: \", not_filled)\n",
    "        last_print = filled + not_filled\n",
    "    if pd.isna(interview_data[\"won\"][i]) or interview_data[\"won\"][i] == 999:\n",
    "        response = ask_gemini(interview_data[\"content\"][i], interview_data[\"name\"][i])\n",
    "        if response == None:\n",
    "            break\n",
    "        if response == 999:\n",
    "            not_filled += 1\n",
    "        else:\n",
    "            filled += 1\n",
    "        interview_data.at[i,\"won\"] = response"
   ]
  },
  {
   "cell_type": "code",
   "execution_count": 25,
   "metadata": {},
   "outputs": [
    {
     "data": {
      "image/png": "[encoded data removed]",
      "text/plain": [
       "<Figure size 640x480 with 1 Axes>"
      ]
     },
     "metadata": {},
     "output_type": "display_data"
    },
    {
     "name": "stdout",
     "output_type": "stream",
     "text": [
      "0  Interviews were removed\n",
      "0  Interviews were removed\n"
     ]
    },
    {
     "ename": "IndexError",
     "evalue": "index 0 is out of bounds for axis 0 with size 0",
     "output_type": "error",
     "traceback": [
      "\u001b[1;31m---------------------------------------------------------------------------\u001b[0m",
      "\u001b[1;31mIndexError\u001b[0m                                Traceback (most recent call last)",
      "Cell \u001b[1;32mIn[25], line 23\u001b[0m\n\u001b[0;32m     20\u001b[0m \u001b[38;5;28mprint\u001b[39m(n\u001b[38;5;241m-\u001b[39m\u001b[38;5;28mlen\u001b[39m(interview_data), \u001b[38;5;124m\"\u001b[39m\u001b[38;5;124m Interviews were removed\u001b[39m\u001b[38;5;124m\"\u001b[39m)\n\u001b[0;32m     22\u001b[0m \u001b[38;5;66;03m# filter specific problematic interviews\u001b[39;00m\n\u001b[1;32m---> 23\u001b[0m interview_data \u001b[38;5;241m=\u001b[39m interview_data\u001b[38;5;241m.\u001b[39mdrop(\u001b[43minterview_data\u001b[49m\u001b[43m[\u001b[49m\u001b[43m(\u001b[49m\u001b[43minterview_data\u001b[49m\u001b[43m[\u001b[49m\u001b[38;5;124;43m\"\u001b[39;49m\u001b[38;5;124;43mdate\u001b[39;49m\u001b[38;5;124;43m\"\u001b[39;49m\u001b[43m]\u001b[49m\u001b[38;5;241;43m==\u001b[39;49m\u001b[38;5;124;43m\"\u001b[39;49m\u001b[38;5;124;43m1994-09-07\u001b[39;49m\u001b[38;5;124;43m\"\u001b[39;49m\u001b[43m)\u001b[49m\u001b[43m \u001b[49m\u001b[38;5;241;43m&\u001b[39;49m\u001b[43m \u001b[49m\u001b[43m(\u001b[49m\u001b[43minterview_data\u001b[49m\u001b[43m[\u001b[49m\u001b[38;5;124;43m\"\u001b[39;49m\u001b[38;5;124;43mname\u001b[39;49m\u001b[38;5;124;43m\"\u001b[39;49m\u001b[43m]\u001b[49m\u001b[38;5;241;43m==\u001b[39;49m\u001b[38;5;124;43m\"\u001b[39;49m\u001b[38;5;124;43mHingis, Martina\u001b[39;49m\u001b[38;5;124;43m\"\u001b[39;49m\u001b[43m)\u001b[49m\u001b[43m]\u001b[49m\u001b[38;5;241;43m.\u001b[39;49m\u001b[43mindex\u001b[49m\u001b[43m[\u001b[49m\u001b[38;5;241;43m0\u001b[39;49m\u001b[43m]\u001b[49m)\n",
      "File \u001b[1;32mc:\\Users\\shach\\.conda\\envs\\oded2\\Lib\\site-packages\\pandas\\core\\indexes\\base.py:5366\u001b[0m, in \u001b[0;36mIndex.__getitem__\u001b[1;34m(self, key)\u001b[0m\n\u001b[0;32m   5363\u001b[0m \u001b[38;5;28;01mif\u001b[39;00m is_integer(key) \u001b[38;5;129;01mor\u001b[39;00m is_float(key):\n\u001b[0;32m   5364\u001b[0m     \u001b[38;5;66;03m# GH#44051 exclude bool, which would return a 2d ndarray\u001b[39;00m\n\u001b[0;32m   5365\u001b[0m     key \u001b[38;5;241m=\u001b[39m com\u001b[38;5;241m.\u001b[39mcast_scalar_indexer(key)\n\u001b[1;32m-> 5366\u001b[0m     \u001b[38;5;28;01mreturn\u001b[39;00m \u001b[43mgetitem\u001b[49m\u001b[43m(\u001b[49m\u001b[43mkey\u001b[49m\u001b[43m)\u001b[49m\n\u001b[0;32m   5368\u001b[0m \u001b[38;5;28;01mif\u001b[39;00m \u001b[38;5;28misinstance\u001b[39m(key, \u001b[38;5;28mslice\u001b[39m):\n\u001b[0;32m   5369\u001b[0m     \u001b[38;5;66;03m# This case is separated from the conditional above to avoid\u001b[39;00m\n\u001b[0;32m   5370\u001b[0m     \u001b[38;5;66;03m# pessimization com.is_bool_indexer and ndim checks.\u001b[39;00m\n\u001b[0;32m   5371\u001b[0m     \u001b[38;5;28;01mreturn\u001b[39;00m \u001b[38;5;28mself\u001b[39m\u001b[38;5;241m.\u001b[39m_getitem_slice(key)\n",
      "\u001b[1;31mIndexError\u001b[0m: index 0 is out of bounds for axis 0 with size 0"
     ]
    }
   ],
   "source": [
    "# now we will filter the data\n",
    "\n",
    "# lets see how the length of the interview distribution looks like\n",
    "# we will make a histogram\n",
    "# we want to see the small values so we will focus on interviews that are shorter than 1000 characters\n",
    "interview_data[\"interview_length\"] = interview_data[\"interview\"].apply(lambda x: len(x))\n",
    "plt.hist(interview_data[\"interview_length\"], bins=20, range=(0,1000))\n",
    "plt.show()\n",
    "\n",
    "# filter all the interviews that are shorter than 400 characters\n",
    "n=len(interview_data)\n",
    "interview_data = interview_data[interview_data[\"interview_length\"] > 400]\n",
    "interview_data = interview_data.reset_index(drop=True)\n",
    "print(n-len(interview_data), \" Interviews were removed\")\n",
    "\n",
    "# filter duplicated interviews\n",
    "# duplicated interviews are interviews that have the same content\n",
    "n=len(interview_data)\n",
    "interview_data = interview_data.drop_duplicates(subset=\"interview\")\n",
    "print(n-len(interview_data), \" Interviews were removed\")\n",
    "\n",
    "# filter specific problematic interviews\n",
    "interview_data = interview_data.drop(interview_data[(interview_data[\"date\"]==\"1994-09-07\") & (interview_data[\"name\"]==\"Hingis, Martina\")].index[0])"
   ]
  },
  {
   "cell_type": "code",
   "execution_count": 26,
   "metadata": {},
   "outputs": [],
   "source": [
    "# writing the data to a csv file\n",
    "interview_data.to_csv('processed_interviews.csv', index=False)"
   ]
  }
 ],
 "metadata": {
  "kernelspec": {
   "display_name": "march333",
   "language": "python",
   "name": "python3"
  },
  "language_info": {
   "codemirror_mode": {
    "name": "ipython",
    "version": 3
   },
   "file_extension": ".py",
   "mimetype": "text/x-python",
   "name": "python",
   "nbconvert_exporter": "python",
   "pygments_lexer": "ipython3",
   "version": "3.11.7"
  }
 },
 "nbformat": 4,
 "nbformat_minor": 2
}
